{
 "cells": [
  {
   "cell_type": "code",
   "execution_count": 1,
   "metadata": {},
   "outputs": [],
   "source": [
    "import numpy as np\n",
    "import pandas as pd"
   ]
  },
  {
   "cell_type": "code",
   "execution_count": null,
   "metadata": {},
   "outputs": [
    {
     "data": {
      "text/plain": [
       "Sun    34\n",
       "Mon    44\n",
       "Tue    29\n",
       "dtype: int64"
      ]
     },
     "execution_count": 2,
     "metadata": {},
     "output_type": "execute_result"
    }
   ],
   "source": [
    "mydays = ['Sun', 'Mon', 'Tue']\n",
    "myexp = [34, 44, 29]\n",
    "\n",
    "a_mydays = np.array(mydays)\n",
    "a_myexp = np.array(myexp)\n",
    "\n",
    "pd.Series(data=a_myexp, index=a_mydays)"
   ]
  },
  {
   "cell_type": "code",
   "execution_count": 3,
   "metadata": {},
   "outputs": [
    {
     "data": {
      "text/plain": [
       "34"
      ]
     },
     "execution_count": 3,
     "metadata": {},
     "output_type": "execute_result"
    }
   ],
   "source": [
    "myexp[0]"
   ]
  },
  {
   "cell_type": "code",
   "execution_count": 4,
   "metadata": {},
   "outputs": [
    {
     "data": {
      "text/plain": [
       "np.int64(34)"
      ]
     },
     "execution_count": 4,
     "metadata": {},
     "output_type": "execute_result"
    }
   ],
   "source": [
    "a_myexp[0]"
   ]
  },
  {
   "cell_type": "code",
   "execution_count": 6,
   "metadata": {},
   "outputs": [
    {
     "data": {
      "text/plain": [
       "Sun    34\n",
       "Mon    44\n",
       "Tue    29\n",
       "dtype: int64"
      ]
     },
     "execution_count": 6,
     "metadata": {},
     "output_type": "execute_result"
    }
   ],
   "source": [
    "s_myexp = pd.Series(data=a_myexp, index=a_mydays)\n",
    "s_myexp"
   ]
  },
  {
   "cell_type": "code",
   "execution_count": 11,
   "metadata": {},
   "outputs": [
    {
     "data": {
      "text/plain": [
       "np.int64(44)"
      ]
     },
     "execution_count": 11,
     "metadata": {},
     "output_type": "execute_result"
    }
   ],
   "source": [
    "s_myexp.loc['Mon']"
   ]
  },
  {
   "cell_type": "code",
   "execution_count": 10,
   "metadata": {},
   "outputs": [
    {
     "data": {
      "text/plain": [
       "np.int64(34)"
      ]
     },
     "execution_count": 10,
     "metadata": {},
     "output_type": "execute_result"
    }
   ],
   "source": [
    "s_myexp.iloc[0]"
   ]
  },
  {
   "cell_type": "code",
   "execution_count": 12,
   "metadata": {},
   "outputs": [
    {
     "data": {
      "text/plain": [
       "array([[1, 2, 3],\n",
       "       [4, 5, 6],\n",
       "       [7, 8, 9]])"
      ]
     },
     "execution_count": 12,
     "metadata": {},
     "output_type": "execute_result"
    }
   ],
   "source": [
    "my_nums = np.arange(1,10).reshape(3,3)\n",
    "my_nums"
   ]
  },
  {
   "cell_type": "code",
   "execution_count": 13,
   "metadata": {},
   "outputs": [
    {
     "data": {
      "text/html": [
       "<div>\n",
       "<style scoped>\n",
       "    .dataframe tbody tr th:only-of-type {\n",
       "        vertical-align: middle;\n",
       "    }\n",
       "\n",
       "    .dataframe tbody tr th {\n",
       "        vertical-align: top;\n",
       "    }\n",
       "\n",
       "    .dataframe thead th {\n",
       "        text-align: right;\n",
       "    }\n",
       "</style>\n",
       "<table border=\"1\" class=\"dataframe\">\n",
       "  <thead>\n",
       "    <tr style=\"text-align: right;\">\n",
       "      <th></th>\n",
       "      <th>0</th>\n",
       "      <th>1</th>\n",
       "      <th>2</th>\n",
       "    </tr>\n",
       "  </thead>\n",
       "  <tbody>\n",
       "    <tr>\n",
       "      <th>0</th>\n",
       "      <td>1</td>\n",
       "      <td>2</td>\n",
       "      <td>3</td>\n",
       "    </tr>\n",
       "    <tr>\n",
       "      <th>1</th>\n",
       "      <td>4</td>\n",
       "      <td>5</td>\n",
       "      <td>6</td>\n",
       "    </tr>\n",
       "    <tr>\n",
       "      <th>2</th>\n",
       "      <td>7</td>\n",
       "      <td>8</td>\n",
       "      <td>9</td>\n",
       "    </tr>\n",
       "  </tbody>\n",
       "</table>\n",
       "</div>"
      ],
      "text/plain": [
       "   0  1  2\n",
       "0  1  2  3\n",
       "1  4  5  6\n",
       "2  7  8  9"
      ]
     },
     "execution_count": 13,
     "metadata": {},
     "output_type": "execute_result"
    }
   ],
   "source": [
    "pd.DataFrame(my_nums)"
   ]
  },
  {
   "cell_type": "code",
   "execution_count": 14,
   "metadata": {},
   "outputs": [
    {
     "data": {
      "text/html": [
       "<div>\n",
       "<style scoped>\n",
       "    .dataframe tbody tr th:only-of-type {\n",
       "        vertical-align: middle;\n",
       "    }\n",
       "\n",
       "    .dataframe tbody tr th {\n",
       "        vertical-align: top;\n",
       "    }\n",
       "\n",
       "    .dataframe thead th {\n",
       "        text-align: right;\n",
       "    }\n",
       "</style>\n",
       "<table border=\"1\" class=\"dataframe\">\n",
       "  <thead>\n",
       "    <tr style=\"text-align: right;\">\n",
       "      <th></th>\n",
       "      <th>Col1</th>\n",
       "      <th>Col2</th>\n",
       "      <th>Col3</th>\n",
       "    </tr>\n",
       "  </thead>\n",
       "  <tbody>\n",
       "    <tr>\n",
       "      <th>Row1</th>\n",
       "      <td>1</td>\n",
       "      <td>2</td>\n",
       "      <td>3</td>\n",
       "    </tr>\n",
       "    <tr>\n",
       "      <th>Row2</th>\n",
       "      <td>4</td>\n",
       "      <td>5</td>\n",
       "      <td>6</td>\n",
       "    </tr>\n",
       "    <tr>\n",
       "      <th>Row3</th>\n",
       "      <td>7</td>\n",
       "      <td>8</td>\n",
       "      <td>9</td>\n",
       "    </tr>\n",
       "  </tbody>\n",
       "</table>\n",
       "</div>"
      ],
      "text/plain": [
       "      Col1  Col2  Col3\n",
       "Row1     1     2     3\n",
       "Row2     4     5     6\n",
       "Row3     7     8     9"
      ]
     },
     "execution_count": 14,
     "metadata": {},
     "output_type": "execute_result"
    }
   ],
   "source": [
    "my_index = ['Row1', 'Row2', 'Row3']\n",
    "my_col = ['Col1','Col2', 'Col3']\n",
    "df = pd.DataFrame(data=my_nums, index=my_index, columns=my_col)\n",
    "df"
   ]
  },
  {
   "cell_type": "code",
   "execution_count": 15,
   "metadata": {},
   "outputs": [
    {
     "data": {
      "text/html": [
       "<div>\n",
       "<style scoped>\n",
       "    .dataframe tbody tr th:only-of-type {\n",
       "        vertical-align: middle;\n",
       "    }\n",
       "\n",
       "    .dataframe tbody tr th {\n",
       "        vertical-align: top;\n",
       "    }\n",
       "\n",
       "    .dataframe thead th {\n",
       "        text-align: right;\n",
       "    }\n",
       "</style>\n",
       "<table border=\"1\" class=\"dataframe\">\n",
       "  <thead>\n",
       "    <tr style=\"text-align: right;\">\n",
       "      <th></th>\n",
       "      <th>A</th>\n",
       "      <th>B</th>\n",
       "    </tr>\n",
       "  </thead>\n",
       "  <tbody>\n",
       "    <tr>\n",
       "      <th>first</th>\n",
       "      <td>1</td>\n",
       "      <td>4</td>\n",
       "    </tr>\n",
       "    <tr>\n",
       "      <th>second</th>\n",
       "      <td>2</td>\n",
       "      <td>5</td>\n",
       "    </tr>\n",
       "    <tr>\n",
       "      <th>third</th>\n",
       "      <td>3</td>\n",
       "      <td>6</td>\n",
       "    </tr>\n",
       "  </tbody>\n",
       "</table>\n",
       "</div>"
      ],
      "text/plain": [
       "        A  B\n",
       "first   1  4\n",
       "second  2  5\n",
       "third   3  6"
      ]
     },
     "execution_count": 15,
     "metadata": {},
     "output_type": "execute_result"
    }
   ],
   "source": [
    "pd.DataFrame({'A':[1,2,3], 'B':[4,5,6]}, index=['first', 'second', 'third'])"
   ]
  },
  {
   "cell_type": "code",
   "execution_count": 17,
   "metadata": {},
   "outputs": [
    {
     "data": {
      "text/html": [
       "<div>\n",
       "<style scoped>\n",
       "    .dataframe tbody tr th:only-of-type {\n",
       "        vertical-align: middle;\n",
       "    }\n",
       "\n",
       "    .dataframe tbody tr th {\n",
       "        vertical-align: top;\n",
       "    }\n",
       "\n",
       "    .dataframe thead th {\n",
       "        text-align: right;\n",
       "    }\n",
       "</style>\n",
       "<table border=\"1\" class=\"dataframe\">\n",
       "  <thead>\n",
       "    <tr style=\"text-align: right;\">\n",
       "      <th></th>\n",
       "      <th>Item_No</th>\n",
       "      <th>Length</th>\n",
       "      <th>Width</th>\n",
       "      <th>Height</th>\n",
       "      <th>Operator</th>\n",
       "    </tr>\n",
       "  </thead>\n",
       "  <tbody>\n",
       "    <tr>\n",
       "      <th>0</th>\n",
       "      <td>Item-1</td>\n",
       "      <td>102.67</td>\n",
       "      <td>49.53</td>\n",
       "      <td>19.69</td>\n",
       "      <td>Op-1</td>\n",
       "    </tr>\n",
       "    <tr>\n",
       "      <th>1</th>\n",
       "      <td>Item-2</td>\n",
       "      <td>102.50</td>\n",
       "      <td>51.42</td>\n",
       "      <td>19.63</td>\n",
       "      <td>Op-1</td>\n",
       "    </tr>\n",
       "    <tr>\n",
       "      <th>2</th>\n",
       "      <td>Item-3</td>\n",
       "      <td>95.37</td>\n",
       "      <td>52.25</td>\n",
       "      <td>21.51</td>\n",
       "      <td>Op-1</td>\n",
       "    </tr>\n",
       "    <tr>\n",
       "      <th>3</th>\n",
       "      <td>Item-4</td>\n",
       "      <td>94.77</td>\n",
       "      <td>49.24</td>\n",
       "      <td>18.60</td>\n",
       "      <td>Op-1</td>\n",
       "    </tr>\n",
       "    <tr>\n",
       "      <th>4</th>\n",
       "      <td>Item-5</td>\n",
       "      <td>104.26</td>\n",
       "      <td>47.90</td>\n",
       "      <td>19.46</td>\n",
       "      <td>Op-1</td>\n",
       "    </tr>\n",
       "  </tbody>\n",
       "</table>\n",
       "</div>"
      ],
      "text/plain": [
       "  Item_No  Length  Width  Height Operator\n",
       "0  Item-1  102.67  49.53   19.69     Op-1\n",
       "1  Item-2  102.50  51.42   19.63     Op-1\n",
       "2  Item-3   95.37  52.25   21.51     Op-1\n",
       "3  Item-4   94.77  49.24   18.60     Op-1\n",
       "4  Item-5  104.26  47.90   19.46     Op-1"
      ]
     },
     "execution_count": 17,
     "metadata": {},
     "output_type": "execute_result"
    }
   ],
   "source": [
    "df = pd.read_csv('Datasets/Piece_Dim.csv')\n",
    "df.head()"
   ]
  },
  {
   "cell_type": "code",
   "execution_count": 18,
   "metadata": {},
   "outputs": [
    {
     "data": {
      "text/html": [
       "<div>\n",
       "<style scoped>\n",
       "    .dataframe tbody tr th:only-of-type {\n",
       "        vertical-align: middle;\n",
       "    }\n",
       "\n",
       "    .dataframe tbody tr th {\n",
       "        vertical-align: top;\n",
       "    }\n",
       "\n",
       "    .dataframe thead th {\n",
       "        text-align: right;\n",
       "    }\n",
       "</style>\n",
       "<table border=\"1\" class=\"dataframe\">\n",
       "  <thead>\n",
       "    <tr style=\"text-align: right;\">\n",
       "      <th></th>\n",
       "      <th>Length</th>\n",
       "      <th>Width</th>\n",
       "      <th>Height</th>\n",
       "      <th>Operator</th>\n",
       "    </tr>\n",
       "    <tr>\n",
       "      <th>Item_No</th>\n",
       "      <th></th>\n",
       "      <th></th>\n",
       "      <th></th>\n",
       "      <th></th>\n",
       "    </tr>\n",
       "  </thead>\n",
       "  <tbody>\n",
       "    <tr>\n",
       "      <th>Item-1</th>\n",
       "      <td>102.67</td>\n",
       "      <td>49.53</td>\n",
       "      <td>19.69</td>\n",
       "      <td>Op-1</td>\n",
       "    </tr>\n",
       "    <tr>\n",
       "      <th>Item-2</th>\n",
       "      <td>102.50</td>\n",
       "      <td>51.42</td>\n",
       "      <td>19.63</td>\n",
       "      <td>Op-1</td>\n",
       "    </tr>\n",
       "    <tr>\n",
       "      <th>Item-3</th>\n",
       "      <td>95.37</td>\n",
       "      <td>52.25</td>\n",
       "      <td>21.51</td>\n",
       "      <td>Op-1</td>\n",
       "    </tr>\n",
       "    <tr>\n",
       "      <th>Item-4</th>\n",
       "      <td>94.77</td>\n",
       "      <td>49.24</td>\n",
       "      <td>18.60</td>\n",
       "      <td>Op-1</td>\n",
       "    </tr>\n",
       "    <tr>\n",
       "      <th>Item-5</th>\n",
       "      <td>104.26</td>\n",
       "      <td>47.90</td>\n",
       "      <td>19.46</td>\n",
       "      <td>Op-1</td>\n",
       "    </tr>\n",
       "  </tbody>\n",
       "</table>\n",
       "</div>"
      ],
      "text/plain": [
       "         Length  Width  Height Operator\n",
       "Item_No                                \n",
       "Item-1   102.67  49.53   19.69     Op-1\n",
       "Item-2   102.50  51.42   19.63     Op-1\n",
       "Item-3    95.37  52.25   21.51     Op-1\n",
       "Item-4    94.77  49.24   18.60     Op-1\n",
       "Item-5   104.26  47.90   19.46     Op-1"
      ]
     },
     "execution_count": 18,
     "metadata": {},
     "output_type": "execute_result"
    }
   ],
   "source": [
    "df = pd.read_csv('Datasets/Piece_Dim.csv', index_col='Item_No')\n",
    "df.head()"
   ]
  },
  {
   "cell_type": "code",
   "execution_count": 19,
   "metadata": {},
   "outputs": [
    {
     "name": "stdout",
     "output_type": "stream",
     "text": [
      "<class 'pandas.core.frame.DataFrame'>\n",
      "Index: 50 entries, Item-1 to Item-50\n",
      "Data columns (total 4 columns):\n",
      " #   Column    Non-Null Count  Dtype  \n",
      "---  ------    --------------  -----  \n",
      " 0   Length    50 non-null     float64\n",
      " 1   Width     50 non-null     float64\n",
      " 2   Height    50 non-null     float64\n",
      " 3   Operator  50 non-null     object \n",
      "dtypes: float64(3), object(1)\n",
      "memory usage: 4.0+ KB\n"
     ]
    }
   ],
   "source": [
    "df.info()"
   ]
  },
  {
   "cell_type": "code",
   "execution_count": 20,
   "metadata": {},
   "outputs": [
    {
     "data": {
      "text/html": [
       "<div>\n",
       "<style scoped>\n",
       "    .dataframe tbody tr th:only-of-type {\n",
       "        vertical-align: middle;\n",
       "    }\n",
       "\n",
       "    .dataframe tbody tr th {\n",
       "        vertical-align: top;\n",
       "    }\n",
       "\n",
       "    .dataframe thead th {\n",
       "        text-align: right;\n",
       "    }\n",
       "</style>\n",
       "<table border=\"1\" class=\"dataframe\">\n",
       "  <thead>\n",
       "    <tr style=\"text-align: right;\">\n",
       "      <th></th>\n",
       "      <th>Length</th>\n",
       "      <th>Width</th>\n",
       "      <th>Height</th>\n",
       "    </tr>\n",
       "  </thead>\n",
       "  <tbody>\n",
       "    <tr>\n",
       "      <th>count</th>\n",
       "      <td>50.000000</td>\n",
       "      <td>50.000000</td>\n",
       "      <td>50.000000</td>\n",
       "    </tr>\n",
       "    <tr>\n",
       "      <th>mean</th>\n",
       "      <td>100.128800</td>\n",
       "      <td>49.461400</td>\n",
       "      <td>20.014000</td>\n",
       "    </tr>\n",
       "    <tr>\n",
       "      <th>std</th>\n",
       "      <td>5.075593</td>\n",
       "      <td>2.615639</td>\n",
       "      <td>1.074069</td>\n",
       "    </tr>\n",
       "    <tr>\n",
       "      <th>min</th>\n",
       "      <td>89.820000</td>\n",
       "      <td>44.460000</td>\n",
       "      <td>17.370000</td>\n",
       "    </tr>\n",
       "    <tr>\n",
       "      <th>25%</th>\n",
       "      <td>95.675000</td>\n",
       "      <td>48.105000</td>\n",
       "      <td>19.375000</td>\n",
       "    </tr>\n",
       "    <tr>\n",
       "      <th>50%</th>\n",
       "      <td>99.830000</td>\n",
       "      <td>49.315000</td>\n",
       "      <td>19.930000</td>\n",
       "    </tr>\n",
       "    <tr>\n",
       "      <th>75%</th>\n",
       "      <td>104.402500</td>\n",
       "      <td>50.780000</td>\n",
       "      <td>20.595000</td>\n",
       "    </tr>\n",
       "    <tr>\n",
       "      <th>max</th>\n",
       "      <td>110.540000</td>\n",
       "      <td>55.760000</td>\n",
       "      <td>23.110000</td>\n",
       "    </tr>\n",
       "  </tbody>\n",
       "</table>\n",
       "</div>"
      ],
      "text/plain": [
       "           Length      Width     Height\n",
       "count   50.000000  50.000000  50.000000\n",
       "mean   100.128800  49.461400  20.014000\n",
       "std      5.075593   2.615639   1.074069\n",
       "min     89.820000  44.460000  17.370000\n",
       "25%     95.675000  48.105000  19.375000\n",
       "50%     99.830000  49.315000  19.930000\n",
       "75%    104.402500  50.780000  20.595000\n",
       "max    110.540000  55.760000  23.110000"
      ]
     },
     "execution_count": 20,
     "metadata": {},
     "output_type": "execute_result"
    }
   ],
   "source": [
    "df.describe()"
   ]
  },
  {
   "cell_type": "code",
   "execution_count": 23,
   "metadata": {},
   "outputs": [
    {
     "data": {
      "text/plain": [
       "Item_No\n",
       "Item-1    102.67\n",
       "Item-2    102.50\n",
       "Item-3     95.37\n",
       "Item-4     94.77\n",
       "Item-5    104.26\n",
       "Name: Length, dtype: float64"
      ]
     },
     "execution_count": 23,
     "metadata": {},
     "output_type": "execute_result"
    }
   ],
   "source": [
    "df['Length'].head()"
   ]
  },
  {
   "cell_type": "code",
   "execution_count": 24,
   "metadata": {},
   "outputs": [
    {
     "data": {
      "text/html": [
       "<div>\n",
       "<style scoped>\n",
       "    .dataframe tbody tr th:only-of-type {\n",
       "        vertical-align: middle;\n",
       "    }\n",
       "\n",
       "    .dataframe tbody tr th {\n",
       "        vertical-align: top;\n",
       "    }\n",
       "\n",
       "    .dataframe thead th {\n",
       "        text-align: right;\n",
       "    }\n",
       "</style>\n",
       "<table border=\"1\" class=\"dataframe\">\n",
       "  <thead>\n",
       "    <tr style=\"text-align: right;\">\n",
       "      <th></th>\n",
       "      <th>Length</th>\n",
       "      <th>Width</th>\n",
       "    </tr>\n",
       "    <tr>\n",
       "      <th>Item_No</th>\n",
       "      <th></th>\n",
       "      <th></th>\n",
       "    </tr>\n",
       "  </thead>\n",
       "  <tbody>\n",
       "    <tr>\n",
       "      <th>Item-1</th>\n",
       "      <td>102.67</td>\n",
       "      <td>49.53</td>\n",
       "    </tr>\n",
       "    <tr>\n",
       "      <th>Item-2</th>\n",
       "      <td>102.50</td>\n",
       "      <td>51.42</td>\n",
       "    </tr>\n",
       "    <tr>\n",
       "      <th>Item-3</th>\n",
       "      <td>95.37</td>\n",
       "      <td>52.25</td>\n",
       "    </tr>\n",
       "    <tr>\n",
       "      <th>Item-4</th>\n",
       "      <td>94.77</td>\n",
       "      <td>49.24</td>\n",
       "    </tr>\n",
       "    <tr>\n",
       "      <th>Item-5</th>\n",
       "      <td>104.26</td>\n",
       "      <td>47.90</td>\n",
       "    </tr>\n",
       "  </tbody>\n",
       "</table>\n",
       "</div>"
      ],
      "text/plain": [
       "         Length  Width\n",
       "Item_No               \n",
       "Item-1   102.67  49.53\n",
       "Item-2   102.50  51.42\n",
       "Item-3    95.37  52.25\n",
       "Item-4    94.77  49.24\n",
       "Item-5   104.26  47.90"
      ]
     },
     "execution_count": 24,
     "metadata": {},
     "output_type": "execute_result"
    }
   ],
   "source": [
    "df[['Length', 'Width']].head()"
   ]
  },
  {
   "cell_type": "code",
   "execution_count": 25,
   "metadata": {},
   "outputs": [
    {
     "data": {
      "text/html": [
       "<div>\n",
       "<style scoped>\n",
       "    .dataframe tbody tr th:only-of-type {\n",
       "        vertical-align: middle;\n",
       "    }\n",
       "\n",
       "    .dataframe tbody tr th {\n",
       "        vertical-align: top;\n",
       "    }\n",
       "\n",
       "    .dataframe thead th {\n",
       "        text-align: right;\n",
       "    }\n",
       "</style>\n",
       "<table border=\"1\" class=\"dataframe\">\n",
       "  <thead>\n",
       "    <tr style=\"text-align: right;\">\n",
       "      <th></th>\n",
       "      <th>Length</th>\n",
       "      <th>Width</th>\n",
       "      <th>Height</th>\n",
       "      <th>Operator</th>\n",
       "      <th>Volume</th>\n",
       "    </tr>\n",
       "    <tr>\n",
       "      <th>Item_No</th>\n",
       "      <th></th>\n",
       "      <th></th>\n",
       "      <th></th>\n",
       "      <th></th>\n",
       "      <th></th>\n",
       "    </tr>\n",
       "  </thead>\n",
       "  <tbody>\n",
       "    <tr>\n",
       "      <th>Item-1</th>\n",
       "      <td>102.67</td>\n",
       "      <td>49.53</td>\n",
       "      <td>19.69</td>\n",
       "      <td>Op-1</td>\n",
       "      <td>100128.476019</td>\n",
       "    </tr>\n",
       "    <tr>\n",
       "      <th>Item-2</th>\n",
       "      <td>102.50</td>\n",
       "      <td>51.42</td>\n",
       "      <td>19.63</td>\n",
       "      <td>Op-1</td>\n",
       "      <td>103460.896500</td>\n",
       "    </tr>\n",
       "    <tr>\n",
       "      <th>Item-3</th>\n",
       "      <td>95.37</td>\n",
       "      <td>52.25</td>\n",
       "      <td>21.51</td>\n",
       "      <td>Op-1</td>\n",
       "      <td>107186.104575</td>\n",
       "    </tr>\n",
       "    <tr>\n",
       "      <th>Item-4</th>\n",
       "      <td>94.77</td>\n",
       "      <td>49.24</td>\n",
       "      <td>18.60</td>\n",
       "      <td>Op-1</td>\n",
       "      <td>86796.431280</td>\n",
       "    </tr>\n",
       "    <tr>\n",
       "      <th>Item-5</th>\n",
       "      <td>104.26</td>\n",
       "      <td>47.90</td>\n",
       "      <td>19.46</td>\n",
       "      <td>Op-1</td>\n",
       "      <td>97184.290840</td>\n",
       "    </tr>\n",
       "  </tbody>\n",
       "</table>\n",
       "</div>"
      ],
      "text/plain": [
       "         Length  Width  Height Operator         Volume\n",
       "Item_No                                               \n",
       "Item-1   102.67  49.53   19.69     Op-1  100128.476019\n",
       "Item-2   102.50  51.42   19.63     Op-1  103460.896500\n",
       "Item-3    95.37  52.25   21.51     Op-1  107186.104575\n",
       "Item-4    94.77  49.24   18.60     Op-1   86796.431280\n",
       "Item-5   104.26  47.90   19.46     Op-1   97184.290840"
      ]
     },
     "execution_count": 25,
     "metadata": {},
     "output_type": "execute_result"
    }
   ],
   "source": [
    "df['Volume'] = df['Length'] * df['Width'] * df['Height']\n",
    "df.head()"
   ]
  },
  {
   "cell_type": "code",
   "execution_count": 26,
   "metadata": {},
   "outputs": [
    {
     "data": {
      "text/html": [
       "<div>\n",
       "<style scoped>\n",
       "    .dataframe tbody tr th:only-of-type {\n",
       "        vertical-align: middle;\n",
       "    }\n",
       "\n",
       "    .dataframe tbody tr th {\n",
       "        vertical-align: top;\n",
       "    }\n",
       "\n",
       "    .dataframe thead th {\n",
       "        text-align: right;\n",
       "    }\n",
       "</style>\n",
       "<table border=\"1\" class=\"dataframe\">\n",
       "  <thead>\n",
       "    <tr style=\"text-align: right;\">\n",
       "      <th></th>\n",
       "      <th>Length</th>\n",
       "      <th>Width</th>\n",
       "      <th>Height</th>\n",
       "      <th>Operator</th>\n",
       "      <th>Volume</th>\n",
       "    </tr>\n",
       "    <tr>\n",
       "      <th>Item_No</th>\n",
       "      <th></th>\n",
       "      <th></th>\n",
       "      <th></th>\n",
       "      <th></th>\n",
       "      <th></th>\n",
       "    </tr>\n",
       "  </thead>\n",
       "  <tbody>\n",
       "    <tr>\n",
       "      <th>Item-1</th>\n",
       "      <td>102.67</td>\n",
       "      <td>49.53</td>\n",
       "      <td>19.69</td>\n",
       "      <td>Op-1</td>\n",
       "      <td>100128.48</td>\n",
       "    </tr>\n",
       "    <tr>\n",
       "      <th>Item-2</th>\n",
       "      <td>102.50</td>\n",
       "      <td>51.42</td>\n",
       "      <td>19.63</td>\n",
       "      <td>Op-1</td>\n",
       "      <td>103460.90</td>\n",
       "    </tr>\n",
       "    <tr>\n",
       "      <th>Item-3</th>\n",
       "      <td>95.37</td>\n",
       "      <td>52.25</td>\n",
       "      <td>21.51</td>\n",
       "      <td>Op-1</td>\n",
       "      <td>107186.10</td>\n",
       "    </tr>\n",
       "    <tr>\n",
       "      <th>Item-4</th>\n",
       "      <td>94.77</td>\n",
       "      <td>49.24</td>\n",
       "      <td>18.60</td>\n",
       "      <td>Op-1</td>\n",
       "      <td>86796.43</td>\n",
       "    </tr>\n",
       "    <tr>\n",
       "      <th>Item-5</th>\n",
       "      <td>104.26</td>\n",
       "      <td>47.90</td>\n",
       "      <td>19.46</td>\n",
       "      <td>Op-1</td>\n",
       "      <td>97184.29</td>\n",
       "    </tr>\n",
       "  </tbody>\n",
       "</table>\n",
       "</div>"
      ],
      "text/plain": [
       "         Length  Width  Height Operator     Volume\n",
       "Item_No                                           \n",
       "Item-1   102.67  49.53   19.69     Op-1  100128.48\n",
       "Item-2   102.50  51.42   19.63     Op-1  103460.90\n",
       "Item-3    95.37  52.25   21.51     Op-1  107186.10\n",
       "Item-4    94.77  49.24   18.60     Op-1   86796.43\n",
       "Item-5   104.26  47.90   19.46     Op-1   97184.29"
      ]
     },
     "execution_count": 26,
     "metadata": {},
     "output_type": "execute_result"
    }
   ],
   "source": [
    "df['Volume'] = np.round(df['Length'] * df['Width'] * df['Height'], 2)\n",
    "df.head()"
   ]
  },
  {
   "cell_type": "code",
   "execution_count": 30,
   "metadata": {},
   "outputs": [
    {
     "data": {
      "text/html": [
       "<div>\n",
       "<style scoped>\n",
       "    .dataframe tbody tr th:only-of-type {\n",
       "        vertical-align: middle;\n",
       "    }\n",
       "\n",
       "    .dataframe tbody tr th {\n",
       "        vertical-align: top;\n",
       "    }\n",
       "\n",
       "    .dataframe thead th {\n",
       "        text-align: right;\n",
       "    }\n",
       "</style>\n",
       "<table border=\"1\" class=\"dataframe\">\n",
       "  <thead>\n",
       "    <tr style=\"text-align: right;\">\n",
       "      <th></th>\n",
       "      <th>Length</th>\n",
       "      <th>Width</th>\n",
       "      <th>Height</th>\n",
       "      <th>Operator</th>\n",
       "    </tr>\n",
       "    <tr>\n",
       "      <th>Item_No</th>\n",
       "      <th></th>\n",
       "      <th></th>\n",
       "      <th></th>\n",
       "      <th></th>\n",
       "    </tr>\n",
       "  </thead>\n",
       "  <tbody>\n",
       "    <tr>\n",
       "      <th>Item-1</th>\n",
       "      <td>102.67</td>\n",
       "      <td>49.53</td>\n",
       "      <td>19.69</td>\n",
       "      <td>Op-1</td>\n",
       "    </tr>\n",
       "    <tr>\n",
       "      <th>Item-2</th>\n",
       "      <td>102.50</td>\n",
       "      <td>51.42</td>\n",
       "      <td>19.63</td>\n",
       "      <td>Op-1</td>\n",
       "    </tr>\n",
       "    <tr>\n",
       "      <th>Item-3</th>\n",
       "      <td>95.37</td>\n",
       "      <td>52.25</td>\n",
       "      <td>21.51</td>\n",
       "      <td>Op-1</td>\n",
       "    </tr>\n",
       "    <tr>\n",
       "      <th>Item-4</th>\n",
       "      <td>94.77</td>\n",
       "      <td>49.24</td>\n",
       "      <td>18.60</td>\n",
       "      <td>Op-1</td>\n",
       "    </tr>\n",
       "    <tr>\n",
       "      <th>Item-5</th>\n",
       "      <td>104.26</td>\n",
       "      <td>47.90</td>\n",
       "      <td>19.46</td>\n",
       "      <td>Op-1</td>\n",
       "    </tr>\n",
       "  </tbody>\n",
       "</table>\n",
       "</div>"
      ],
      "text/plain": [
       "         Length  Width  Height Operator\n",
       "Item_No                                \n",
       "Item-1   102.67  49.53   19.69     Op-1\n",
       "Item-2   102.50  51.42   19.63     Op-1\n",
       "Item-3    95.37  52.25   21.51     Op-1\n",
       "Item-4    94.77  49.24   18.60     Op-1\n",
       "Item-5   104.26  47.90   19.46     Op-1"
      ]
     },
     "execution_count": 30,
     "metadata": {},
     "output_type": "execute_result"
    }
   ],
   "source": [
    "df.drop('Volume', axis=1).head()"
   ]
  },
  {
   "cell_type": "code",
   "execution_count": 31,
   "metadata": {},
   "outputs": [
    {
     "data": {
      "text/html": [
       "<div>\n",
       "<style scoped>\n",
       "    .dataframe tbody tr th:only-of-type {\n",
       "        vertical-align: middle;\n",
       "    }\n",
       "\n",
       "    .dataframe tbody tr th {\n",
       "        vertical-align: top;\n",
       "    }\n",
       "\n",
       "    .dataframe thead th {\n",
       "        text-align: right;\n",
       "    }\n",
       "</style>\n",
       "<table border=\"1\" class=\"dataframe\">\n",
       "  <thead>\n",
       "    <tr style=\"text-align: right;\">\n",
       "      <th></th>\n",
       "      <th>Length</th>\n",
       "      <th>Width</th>\n",
       "      <th>Height</th>\n",
       "      <th>Operator</th>\n",
       "    </tr>\n",
       "    <tr>\n",
       "      <th>Item_No</th>\n",
       "      <th></th>\n",
       "      <th></th>\n",
       "      <th></th>\n",
       "      <th></th>\n",
       "    </tr>\n",
       "  </thead>\n",
       "  <tbody>\n",
       "    <tr>\n",
       "      <th>Item-1</th>\n",
       "      <td>102.67</td>\n",
       "      <td>49.53</td>\n",
       "      <td>19.69</td>\n",
       "      <td>Op-1</td>\n",
       "    </tr>\n",
       "    <tr>\n",
       "      <th>Item-2</th>\n",
       "      <td>102.50</td>\n",
       "      <td>51.42</td>\n",
       "      <td>19.63</td>\n",
       "      <td>Op-1</td>\n",
       "    </tr>\n",
       "    <tr>\n",
       "      <th>Item-3</th>\n",
       "      <td>95.37</td>\n",
       "      <td>52.25</td>\n",
       "      <td>21.51</td>\n",
       "      <td>Op-1</td>\n",
       "    </tr>\n",
       "    <tr>\n",
       "      <th>Item-4</th>\n",
       "      <td>94.77</td>\n",
       "      <td>49.24</td>\n",
       "      <td>18.60</td>\n",
       "      <td>Op-1</td>\n",
       "    </tr>\n",
       "    <tr>\n",
       "      <th>Item-5</th>\n",
       "      <td>104.26</td>\n",
       "      <td>47.90</td>\n",
       "      <td>19.46</td>\n",
       "      <td>Op-1</td>\n",
       "    </tr>\n",
       "  </tbody>\n",
       "</table>\n",
       "</div>"
      ],
      "text/plain": [
       "         Length  Width  Height Operator\n",
       "Item_No                                \n",
       "Item-1   102.67  49.53   19.69     Op-1\n",
       "Item-2   102.50  51.42   19.63     Op-1\n",
       "Item-3    95.37  52.25   21.51     Op-1\n",
       "Item-4    94.77  49.24   18.60     Op-1\n",
       "Item-5   104.26  47.90   19.46     Op-1"
      ]
     },
     "execution_count": 31,
     "metadata": {},
     "output_type": "execute_result"
    }
   ],
   "source": [
    "df = df.drop('Volume', axis=1)\n",
    "df.head()"
   ]
  },
  {
   "cell_type": "code",
   "execution_count": 32,
   "metadata": {},
   "outputs": [
    {
     "data": {
      "text/html": [
       "<div>\n",
       "<style scoped>\n",
       "    .dataframe tbody tr th:only-of-type {\n",
       "        vertical-align: middle;\n",
       "    }\n",
       "\n",
       "    .dataframe tbody tr th {\n",
       "        vertical-align: top;\n",
       "    }\n",
       "\n",
       "    .dataframe thead th {\n",
       "        text-align: right;\n",
       "    }\n",
       "</style>\n",
       "<table border=\"1\" class=\"dataframe\">\n",
       "  <thead>\n",
       "    <tr style=\"text-align: right;\">\n",
       "      <th></th>\n",
       "      <th>Length</th>\n",
       "      <th>Width</th>\n",
       "      <th>Height</th>\n",
       "      <th>Operator</th>\n",
       "      <th>Volume</th>\n",
       "    </tr>\n",
       "    <tr>\n",
       "      <th>Item_No</th>\n",
       "      <th></th>\n",
       "      <th></th>\n",
       "      <th></th>\n",
       "      <th></th>\n",
       "      <th></th>\n",
       "    </tr>\n",
       "  </thead>\n",
       "  <tbody>\n",
       "    <tr>\n",
       "      <th>Item-1</th>\n",
       "      <td>102.67</td>\n",
       "      <td>49.53</td>\n",
       "      <td>19.69</td>\n",
       "      <td>Op-1</td>\n",
       "      <td>100128.48</td>\n",
       "    </tr>\n",
       "    <tr>\n",
       "      <th>Item-2</th>\n",
       "      <td>102.50</td>\n",
       "      <td>51.42</td>\n",
       "      <td>19.63</td>\n",
       "      <td>Op-1</td>\n",
       "      <td>103460.90</td>\n",
       "    </tr>\n",
       "    <tr>\n",
       "      <th>Item-3</th>\n",
       "      <td>95.37</td>\n",
       "      <td>52.25</td>\n",
       "      <td>21.51</td>\n",
       "      <td>Op-1</td>\n",
       "      <td>107186.10</td>\n",
       "    </tr>\n",
       "    <tr>\n",
       "      <th>Item-4</th>\n",
       "      <td>94.77</td>\n",
       "      <td>49.24</td>\n",
       "      <td>18.60</td>\n",
       "      <td>Op-1</td>\n",
       "      <td>86796.43</td>\n",
       "    </tr>\n",
       "    <tr>\n",
       "      <th>Item-5</th>\n",
       "      <td>104.26</td>\n",
       "      <td>47.90</td>\n",
       "      <td>19.46</td>\n",
       "      <td>Op-1</td>\n",
       "      <td>97184.29</td>\n",
       "    </tr>\n",
       "  </tbody>\n",
       "</table>\n",
       "</div>"
      ],
      "text/plain": [
       "         Length  Width  Height Operator     Volume\n",
       "Item_No                                           \n",
       "Item-1   102.67  49.53   19.69     Op-1  100128.48\n",
       "Item-2   102.50  51.42   19.63     Op-1  103460.90\n",
       "Item-3    95.37  52.25   21.51     Op-1  107186.10\n",
       "Item-4    94.77  49.24   18.60     Op-1   86796.43\n",
       "Item-5   104.26  47.90   19.46     Op-1   97184.29"
      ]
     },
     "execution_count": 32,
     "metadata": {},
     "output_type": "execute_result"
    }
   ],
   "source": [
    "df['Volume'] = np.round(df['Length'] * df['Width'] * df['Height'], 2)\n",
    "df.head()"
   ]
  },
  {
   "cell_type": "code",
   "execution_count": 33,
   "metadata": {},
   "outputs": [],
   "source": [
    "df.drop('Volume', axis=1,inplace=True)"
   ]
  },
  {
   "cell_type": "code",
   "execution_count": 34,
   "metadata": {},
   "outputs": [
    {
     "data": {
      "text/html": [
       "<div>\n",
       "<style scoped>\n",
       "    .dataframe tbody tr th:only-of-type {\n",
       "        vertical-align: middle;\n",
       "    }\n",
       "\n",
       "    .dataframe tbody tr th {\n",
       "        vertical-align: top;\n",
       "    }\n",
       "\n",
       "    .dataframe thead th {\n",
       "        text-align: right;\n",
       "    }\n",
       "</style>\n",
       "<table border=\"1\" class=\"dataframe\">\n",
       "  <thead>\n",
       "    <tr style=\"text-align: right;\">\n",
       "      <th></th>\n",
       "      <th>Length</th>\n",
       "      <th>Width</th>\n",
       "      <th>Height</th>\n",
       "      <th>Operator</th>\n",
       "    </tr>\n",
       "    <tr>\n",
       "      <th>Item_No</th>\n",
       "      <th></th>\n",
       "      <th></th>\n",
       "      <th></th>\n",
       "      <th></th>\n",
       "    </tr>\n",
       "  </thead>\n",
       "  <tbody>\n",
       "    <tr>\n",
       "      <th>Item-1</th>\n",
       "      <td>102.67</td>\n",
       "      <td>49.53</td>\n",
       "      <td>19.69</td>\n",
       "      <td>Op-1</td>\n",
       "    </tr>\n",
       "    <tr>\n",
       "      <th>Item-2</th>\n",
       "      <td>102.50</td>\n",
       "      <td>51.42</td>\n",
       "      <td>19.63</td>\n",
       "      <td>Op-1</td>\n",
       "    </tr>\n",
       "    <tr>\n",
       "      <th>Item-3</th>\n",
       "      <td>95.37</td>\n",
       "      <td>52.25</td>\n",
       "      <td>21.51</td>\n",
       "      <td>Op-1</td>\n",
       "    </tr>\n",
       "    <tr>\n",
       "      <th>Item-4</th>\n",
       "      <td>94.77</td>\n",
       "      <td>49.24</td>\n",
       "      <td>18.60</td>\n",
       "      <td>Op-1</td>\n",
       "    </tr>\n",
       "    <tr>\n",
       "      <th>Item-5</th>\n",
       "      <td>104.26</td>\n",
       "      <td>47.90</td>\n",
       "      <td>19.46</td>\n",
       "      <td>Op-1</td>\n",
       "    </tr>\n",
       "  </tbody>\n",
       "</table>\n",
       "</div>"
      ],
      "text/plain": [
       "         Length  Width  Height Operator\n",
       "Item_No                                \n",
       "Item-1   102.67  49.53   19.69     Op-1\n",
       "Item-2   102.50  51.42   19.63     Op-1\n",
       "Item-3    95.37  52.25   21.51     Op-1\n",
       "Item-4    94.77  49.24   18.60     Op-1\n",
       "Item-5   104.26  47.90   19.46     Op-1"
      ]
     },
     "execution_count": 34,
     "metadata": {},
     "output_type": "execute_result"
    }
   ],
   "source": [
    "df.head()"
   ]
  },
  {
   "cell_type": "code",
   "execution_count": 35,
   "metadata": {},
   "outputs": [
    {
     "data": {
      "text/plain": [
       "Length      102.67\n",
       "Width        49.53\n",
       "Height       19.69\n",
       "Operator      Op-1\n",
       "Name: Item-1, dtype: object"
      ]
     },
     "execution_count": 35,
     "metadata": {},
     "output_type": "execute_result"
    }
   ],
   "source": [
    "df.loc['Item-1']"
   ]
  },
  {
   "cell_type": "code",
   "execution_count": 36,
   "metadata": {},
   "outputs": [
    {
     "data": {
      "text/html": [
       "<div>\n",
       "<style scoped>\n",
       "    .dataframe tbody tr th:only-of-type {\n",
       "        vertical-align: middle;\n",
       "    }\n",
       "\n",
       "    .dataframe tbody tr th {\n",
       "        vertical-align: top;\n",
       "    }\n",
       "\n",
       "    .dataframe thead th {\n",
       "        text-align: right;\n",
       "    }\n",
       "</style>\n",
       "<table border=\"1\" class=\"dataframe\">\n",
       "  <thead>\n",
       "    <tr style=\"text-align: right;\">\n",
       "      <th></th>\n",
       "      <th>Length</th>\n",
       "      <th>Width</th>\n",
       "      <th>Height</th>\n",
       "      <th>Operator</th>\n",
       "    </tr>\n",
       "    <tr>\n",
       "      <th>Item_No</th>\n",
       "      <th></th>\n",
       "      <th></th>\n",
       "      <th></th>\n",
       "      <th></th>\n",
       "    </tr>\n",
       "  </thead>\n",
       "  <tbody>\n",
       "    <tr>\n",
       "      <th>Item-1</th>\n",
       "      <td>102.67</td>\n",
       "      <td>49.53</td>\n",
       "      <td>19.69</td>\n",
       "      <td>Op-1</td>\n",
       "    </tr>\n",
       "  </tbody>\n",
       "</table>\n",
       "</div>"
      ],
      "text/plain": [
       "         Length  Width  Height Operator\n",
       "Item_No                                \n",
       "Item-1   102.67  49.53   19.69     Op-1"
      ]
     },
     "execution_count": 36,
     "metadata": {},
     "output_type": "execute_result"
    }
   ],
   "source": [
    "df.loc[['Item-1']]"
   ]
  },
  {
   "cell_type": "code",
   "execution_count": 37,
   "metadata": {},
   "outputs": [
    {
     "data": {
      "text/html": [
       "<div>\n",
       "<style scoped>\n",
       "    .dataframe tbody tr th:only-of-type {\n",
       "        vertical-align: middle;\n",
       "    }\n",
       "\n",
       "    .dataframe tbody tr th {\n",
       "        vertical-align: top;\n",
       "    }\n",
       "\n",
       "    .dataframe thead th {\n",
       "        text-align: right;\n",
       "    }\n",
       "</style>\n",
       "<table border=\"1\" class=\"dataframe\">\n",
       "  <thead>\n",
       "    <tr style=\"text-align: right;\">\n",
       "      <th></th>\n",
       "      <th>Length</th>\n",
       "      <th>Width</th>\n",
       "      <th>Height</th>\n",
       "      <th>Operator</th>\n",
       "    </tr>\n",
       "    <tr>\n",
       "      <th>Item_No</th>\n",
       "      <th></th>\n",
       "      <th></th>\n",
       "      <th></th>\n",
       "      <th></th>\n",
       "    </tr>\n",
       "  </thead>\n",
       "  <tbody>\n",
       "    <tr>\n",
       "      <th>Item-1</th>\n",
       "      <td>102.67</td>\n",
       "      <td>49.53</td>\n",
       "      <td>19.69</td>\n",
       "      <td>Op-1</td>\n",
       "    </tr>\n",
       "    <tr>\n",
       "      <th>Item-5</th>\n",
       "      <td>104.26</td>\n",
       "      <td>47.90</td>\n",
       "      <td>19.46</td>\n",
       "      <td>Op-1</td>\n",
       "    </tr>\n",
       "  </tbody>\n",
       "</table>\n",
       "</div>"
      ],
      "text/plain": [
       "         Length  Width  Height Operator\n",
       "Item_No                                \n",
       "Item-1   102.67  49.53   19.69     Op-1\n",
       "Item-5   104.26  47.90   19.46     Op-1"
      ]
     },
     "execution_count": 37,
     "metadata": {},
     "output_type": "execute_result"
    }
   ],
   "source": [
    "df.loc[['Item-1','Item-5']]"
   ]
  },
  {
   "cell_type": "code",
   "execution_count": 38,
   "metadata": {},
   "outputs": [
    {
     "data": {
      "text/html": [
       "<div>\n",
       "<style scoped>\n",
       "    .dataframe tbody tr th:only-of-type {\n",
       "        vertical-align: middle;\n",
       "    }\n",
       "\n",
       "    .dataframe tbody tr th {\n",
       "        vertical-align: top;\n",
       "    }\n",
       "\n",
       "    .dataframe thead th {\n",
       "        text-align: right;\n",
       "    }\n",
       "</style>\n",
       "<table border=\"1\" class=\"dataframe\">\n",
       "  <thead>\n",
       "    <tr style=\"text-align: right;\">\n",
       "      <th></th>\n",
       "      <th>Length</th>\n",
       "      <th>Width</th>\n",
       "      <th>Height</th>\n",
       "    </tr>\n",
       "    <tr>\n",
       "      <th>Item_No</th>\n",
       "      <th></th>\n",
       "      <th></th>\n",
       "      <th></th>\n",
       "    </tr>\n",
       "  </thead>\n",
       "  <tbody>\n",
       "    <tr>\n",
       "      <th>Item-1</th>\n",
       "      <td>102.67</td>\n",
       "      <td>49.53</td>\n",
       "      <td>19.69</td>\n",
       "    </tr>\n",
       "    <tr>\n",
       "      <th>Item-5</th>\n",
       "      <td>104.26</td>\n",
       "      <td>47.90</td>\n",
       "      <td>19.46</td>\n",
       "    </tr>\n",
       "  </tbody>\n",
       "</table>\n",
       "</div>"
      ],
      "text/plain": [
       "         Length  Width  Height\n",
       "Item_No                       \n",
       "Item-1   102.67  49.53   19.69\n",
       "Item-5   104.26  47.90   19.46"
      ]
     },
     "execution_count": 38,
     "metadata": {},
     "output_type": "execute_result"
    }
   ],
   "source": [
    "df.loc[['Item-1','Item-5'],['Length', 'Width', 'Height']]"
   ]
  },
  {
   "cell_type": "code",
   "execution_count": 39,
   "metadata": {},
   "outputs": [
    {
     "data": {
      "text/plain": [
       "Length      102.67\n",
       "Width        49.53\n",
       "Height       19.69\n",
       "Operator      Op-1\n",
       "Name: Item-1, dtype: object"
      ]
     },
     "execution_count": 39,
     "metadata": {},
     "output_type": "execute_result"
    }
   ],
   "source": [
    "df.iloc[0]"
   ]
  },
  {
   "cell_type": "code",
   "execution_count": 40,
   "metadata": {},
   "outputs": [
    {
     "data": {
      "text/html": [
       "<div>\n",
       "<style scoped>\n",
       "    .dataframe tbody tr th:only-of-type {\n",
       "        vertical-align: middle;\n",
       "    }\n",
       "\n",
       "    .dataframe tbody tr th {\n",
       "        vertical-align: top;\n",
       "    }\n",
       "\n",
       "    .dataframe thead th {\n",
       "        text-align: right;\n",
       "    }\n",
       "</style>\n",
       "<table border=\"1\" class=\"dataframe\">\n",
       "  <thead>\n",
       "    <tr style=\"text-align: right;\">\n",
       "      <th></th>\n",
       "      <th>Length</th>\n",
       "      <th>Width</th>\n",
       "      <th>Height</th>\n",
       "      <th>Operator</th>\n",
       "    </tr>\n",
       "    <tr>\n",
       "      <th>Item_No</th>\n",
       "      <th></th>\n",
       "      <th></th>\n",
       "      <th></th>\n",
       "      <th></th>\n",
       "    </tr>\n",
       "  </thead>\n",
       "  <tbody>\n",
       "    <tr>\n",
       "      <th>Item-1</th>\n",
       "      <td>102.67</td>\n",
       "      <td>49.53</td>\n",
       "      <td>19.69</td>\n",
       "      <td>Op-1</td>\n",
       "    </tr>\n",
       "  </tbody>\n",
       "</table>\n",
       "</div>"
      ],
      "text/plain": [
       "         Length  Width  Height Operator\n",
       "Item_No                                \n",
       "Item-1   102.67  49.53   19.69     Op-1"
      ]
     },
     "execution_count": 40,
     "metadata": {},
     "output_type": "execute_result"
    }
   ],
   "source": [
    "df.iloc[[0]]"
   ]
  },
  {
   "cell_type": "code",
   "execution_count": 41,
   "metadata": {},
   "outputs": [
    {
     "data": {
      "text/html": [
       "<div>\n",
       "<style scoped>\n",
       "    .dataframe tbody tr th:only-of-type {\n",
       "        vertical-align: middle;\n",
       "    }\n",
       "\n",
       "    .dataframe tbody tr th {\n",
       "        vertical-align: top;\n",
       "    }\n",
       "\n",
       "    .dataframe thead th {\n",
       "        text-align: right;\n",
       "    }\n",
       "</style>\n",
       "<table border=\"1\" class=\"dataframe\">\n",
       "  <thead>\n",
       "    <tr style=\"text-align: right;\">\n",
       "      <th></th>\n",
       "      <th>Length</th>\n",
       "      <th>Width</th>\n",
       "      <th>Height</th>\n",
       "      <th>Operator</th>\n",
       "    </tr>\n",
       "    <tr>\n",
       "      <th>Item_No</th>\n",
       "      <th></th>\n",
       "      <th></th>\n",
       "      <th></th>\n",
       "      <th></th>\n",
       "    </tr>\n",
       "  </thead>\n",
       "  <tbody>\n",
       "    <tr>\n",
       "      <th>Item-1</th>\n",
       "      <td>102.67</td>\n",
       "      <td>49.53</td>\n",
       "      <td>19.69</td>\n",
       "      <td>Op-1</td>\n",
       "    </tr>\n",
       "    <tr>\n",
       "      <th>Item-5</th>\n",
       "      <td>104.26</td>\n",
       "      <td>47.90</td>\n",
       "      <td>19.46</td>\n",
       "      <td>Op-1</td>\n",
       "    </tr>\n",
       "  </tbody>\n",
       "</table>\n",
       "</div>"
      ],
      "text/plain": [
       "         Length  Width  Height Operator\n",
       "Item_No                                \n",
       "Item-1   102.67  49.53   19.69     Op-1\n",
       "Item-5   104.26  47.90   19.46     Op-1"
      ]
     },
     "execution_count": 41,
     "metadata": {},
     "output_type": "execute_result"
    }
   ],
   "source": [
    "df.iloc[[0, 4]]"
   ]
  },
  {
   "cell_type": "code",
   "execution_count": 42,
   "metadata": {},
   "outputs": [
    {
     "data": {
      "text/html": [
       "<div>\n",
       "<style scoped>\n",
       "    .dataframe tbody tr th:only-of-type {\n",
       "        vertical-align: middle;\n",
       "    }\n",
       "\n",
       "    .dataframe tbody tr th {\n",
       "        vertical-align: top;\n",
       "    }\n",
       "\n",
       "    .dataframe thead th {\n",
       "        text-align: right;\n",
       "    }\n",
       "</style>\n",
       "<table border=\"1\" class=\"dataframe\">\n",
       "  <thead>\n",
       "    <tr style=\"text-align: right;\">\n",
       "      <th></th>\n",
       "      <th>Length</th>\n",
       "      <th>Width</th>\n",
       "      <th>Height</th>\n",
       "    </tr>\n",
       "    <tr>\n",
       "      <th>Item_No</th>\n",
       "      <th></th>\n",
       "      <th></th>\n",
       "      <th></th>\n",
       "    </tr>\n",
       "  </thead>\n",
       "  <tbody>\n",
       "    <tr>\n",
       "      <th>Item-1</th>\n",
       "      <td>102.67</td>\n",
       "      <td>49.53</td>\n",
       "      <td>19.69</td>\n",
       "    </tr>\n",
       "    <tr>\n",
       "      <th>Item-5</th>\n",
       "      <td>104.26</td>\n",
       "      <td>47.90</td>\n",
       "      <td>19.46</td>\n",
       "    </tr>\n",
       "  </tbody>\n",
       "</table>\n",
       "</div>"
      ],
      "text/plain": [
       "         Length  Width  Height\n",
       "Item_No                       \n",
       "Item-1   102.67  49.53   19.69\n",
       "Item-5   104.26  47.90   19.46"
      ]
     },
     "execution_count": 42,
     "metadata": {},
     "output_type": "execute_result"
    }
   ],
   "source": [
    "df.iloc[[0, 4],[0, 1, 2]]"
   ]
  },
  {
   "cell_type": "code",
   "execution_count": 43,
   "metadata": {},
   "outputs": [
    {
     "data": {
      "text/html": [
       "<div>\n",
       "<style scoped>\n",
       "    .dataframe tbody tr th:only-of-type {\n",
       "        vertical-align: middle;\n",
       "    }\n",
       "\n",
       "    .dataframe tbody tr th {\n",
       "        vertical-align: top;\n",
       "    }\n",
       "\n",
       "    .dataframe thead th {\n",
       "        text-align: right;\n",
       "    }\n",
       "</style>\n",
       "<table border=\"1\" class=\"dataframe\">\n",
       "  <thead>\n",
       "    <tr style=\"text-align: right;\">\n",
       "      <th></th>\n",
       "      <th>Length</th>\n",
       "      <th>Width</th>\n",
       "      <th>Height</th>\n",
       "    </tr>\n",
       "    <tr>\n",
       "      <th>Item_No</th>\n",
       "      <th></th>\n",
       "      <th></th>\n",
       "      <th></th>\n",
       "    </tr>\n",
       "  </thead>\n",
       "  <tbody>\n",
       "    <tr>\n",
       "      <th>Item-1</th>\n",
       "      <td>102.67</td>\n",
       "      <td>49.53</td>\n",
       "      <td>19.69</td>\n",
       "    </tr>\n",
       "    <tr>\n",
       "      <th>Item-2</th>\n",
       "      <td>102.50</td>\n",
       "      <td>51.42</td>\n",
       "      <td>19.63</td>\n",
       "    </tr>\n",
       "    <tr>\n",
       "      <th>Item-3</th>\n",
       "      <td>95.37</td>\n",
       "      <td>52.25</td>\n",
       "      <td>21.51</td>\n",
       "    </tr>\n",
       "    <tr>\n",
       "      <th>Item-4</th>\n",
       "      <td>94.77</td>\n",
       "      <td>49.24</td>\n",
       "      <td>18.60</td>\n",
       "    </tr>\n",
       "  </tbody>\n",
       "</table>\n",
       "</div>"
      ],
      "text/plain": [
       "         Length  Width  Height\n",
       "Item_No                       \n",
       "Item-1   102.67  49.53   19.69\n",
       "Item-2   102.50  51.42   19.63\n",
       "Item-3    95.37  52.25   21.51\n",
       "Item-4    94.77  49.24   18.60"
      ]
     },
     "execution_count": 43,
     "metadata": {},
     "output_type": "execute_result"
    }
   ],
   "source": [
    "df.iloc[0:4,0:3]"
   ]
  },
  {
   "cell_type": "code",
   "execution_count": 45,
   "metadata": {},
   "outputs": [
    {
     "data": {
      "text/html": [
       "<div>\n",
       "<style scoped>\n",
       "    .dataframe tbody tr th:only-of-type {\n",
       "        vertical-align: middle;\n",
       "    }\n",
       "\n",
       "    .dataframe tbody tr th {\n",
       "        vertical-align: top;\n",
       "    }\n",
       "\n",
       "    .dataframe thead th {\n",
       "        text-align: right;\n",
       "    }\n",
       "</style>\n",
       "<table border=\"1\" class=\"dataframe\">\n",
       "  <thead>\n",
       "    <tr style=\"text-align: right;\">\n",
       "      <th></th>\n",
       "      <th>Length</th>\n",
       "      <th>Width</th>\n",
       "      <th>Height</th>\n",
       "    </tr>\n",
       "  </thead>\n",
       "  <tbody>\n",
       "    <tr>\n",
       "      <th>count</th>\n",
       "      <td>5.000000</td>\n",
       "      <td>5.00000</td>\n",
       "      <td>5.000000</td>\n",
       "    </tr>\n",
       "    <tr>\n",
       "      <th>mean</th>\n",
       "      <td>99.914000</td>\n",
       "      <td>50.06800</td>\n",
       "      <td>19.778000</td>\n",
       "    </tr>\n",
       "    <tr>\n",
       "      <th>std</th>\n",
       "      <td>4.479936</td>\n",
       "      <td>1.75102</td>\n",
       "      <td>1.062812</td>\n",
       "    </tr>\n",
       "    <tr>\n",
       "      <th>min</th>\n",
       "      <td>94.770000</td>\n",
       "      <td>47.90000</td>\n",
       "      <td>18.600000</td>\n",
       "    </tr>\n",
       "    <tr>\n",
       "      <th>25%</th>\n",
       "      <td>95.370000</td>\n",
       "      <td>49.24000</td>\n",
       "      <td>19.460000</td>\n",
       "    </tr>\n",
       "    <tr>\n",
       "      <th>50%</th>\n",
       "      <td>102.500000</td>\n",
       "      <td>49.53000</td>\n",
       "      <td>19.630000</td>\n",
       "    </tr>\n",
       "    <tr>\n",
       "      <th>75%</th>\n",
       "      <td>102.670000</td>\n",
       "      <td>51.42000</td>\n",
       "      <td>19.690000</td>\n",
       "    </tr>\n",
       "    <tr>\n",
       "      <th>max</th>\n",
       "      <td>104.260000</td>\n",
       "      <td>52.25000</td>\n",
       "      <td>21.510000</td>\n",
       "    </tr>\n",
       "  </tbody>\n",
       "</table>\n",
       "</div>"
      ],
      "text/plain": [
       "           Length     Width     Height\n",
       "count    5.000000   5.00000   5.000000\n",
       "mean    99.914000  50.06800  19.778000\n",
       "std      4.479936   1.75102   1.062812\n",
       "min     94.770000  47.90000  18.600000\n",
       "25%     95.370000  49.24000  19.460000\n",
       "50%    102.500000  49.53000  19.630000\n",
       "75%    102.670000  51.42000  19.690000\n",
       "max    104.260000  52.25000  21.510000"
      ]
     },
     "execution_count": 45,
     "metadata": {},
     "output_type": "execute_result"
    }
   ],
   "source": [
    "df5 = df.iloc[0:5,0:3]\n",
    "df5.describe()"
   ]
  },
  {
   "cell_type": "code",
   "execution_count": 46,
   "metadata": {},
   "outputs": [
    {
     "data": {
      "text/plain": [
       "array([  0,  10,  20,  30,  40,  50,  60,  70,  80,  90, 100])"
      ]
     },
     "execution_count": 46,
     "metadata": {},
     "output_type": "execute_result"
    }
   ],
   "source": [
    "tens = np.arange(0, 101, 10)\n",
    "tens"
   ]
  },
  {
   "cell_type": "code",
   "execution_count": 47,
   "metadata": {},
   "outputs": [
    {
     "data": {
      "text/plain": [
       "array([False, False, False, False, False, False,  True,  True,  True,\n",
       "        True,  True])"
      ]
     },
     "execution_count": 47,
     "metadata": {},
     "output_type": "execute_result"
    }
   ],
   "source": [
    "tens >= 60"
   ]
  },
  {
   "cell_type": "code",
   "execution_count": 49,
   "metadata": {},
   "outputs": [
    {
     "data": {
      "text/plain": [
       "array([ 60,  70,  80,  90, 100])"
      ]
     },
     "execution_count": 49,
     "metadata": {},
     "output_type": "execute_result"
    }
   ],
   "source": [
    "tens[tens >= 60]"
   ]
  },
  {
   "cell_type": "code",
   "execution_count": 52,
   "metadata": {},
   "outputs": [
    {
     "data": {
      "text/html": [
       "<div>\n",
       "<style scoped>\n",
       "    .dataframe tbody tr th:only-of-type {\n",
       "        vertical-align: middle;\n",
       "    }\n",
       "\n",
       "    .dataframe tbody tr th {\n",
       "        vertical-align: top;\n",
       "    }\n",
       "\n",
       "    .dataframe thead th {\n",
       "        text-align: right;\n",
       "    }\n",
       "</style>\n",
       "<table border=\"1\" class=\"dataframe\">\n",
       "  <thead>\n",
       "    <tr style=\"text-align: right;\">\n",
       "      <th></th>\n",
       "      <th>Length</th>\n",
       "      <th>Width</th>\n",
       "      <th>Height</th>\n",
       "    </tr>\n",
       "  </thead>\n",
       "  <tbody>\n",
       "    <tr>\n",
       "      <th>count</th>\n",
       "      <td>25.000000</td>\n",
       "      <td>25.000000</td>\n",
       "      <td>25.000000</td>\n",
       "    </tr>\n",
       "    <tr>\n",
       "      <th>mean</th>\n",
       "      <td>99.547200</td>\n",
       "      <td>49.301200</td>\n",
       "      <td>20.024800</td>\n",
       "    </tr>\n",
       "    <tr>\n",
       "      <th>std</th>\n",
       "      <td>5.147417</td>\n",
       "      <td>2.955796</td>\n",
       "      <td>0.823514</td>\n",
       "    </tr>\n",
       "    <tr>\n",
       "      <th>min</th>\n",
       "      <td>89.820000</td>\n",
       "      <td>44.460000</td>\n",
       "      <td>18.600000</td>\n",
       "    </tr>\n",
       "    <tr>\n",
       "      <th>25%</th>\n",
       "      <td>95.510000</td>\n",
       "      <td>47.900000</td>\n",
       "      <td>19.510000</td>\n",
       "    </tr>\n",
       "    <tr>\n",
       "      <th>50%</th>\n",
       "      <td>98.730000</td>\n",
       "      <td>49.240000</td>\n",
       "      <td>19.940000</td>\n",
       "    </tr>\n",
       "    <tr>\n",
       "      <th>75%</th>\n",
       "      <td>104.260000</td>\n",
       "      <td>50.810000</td>\n",
       "      <td>20.360000</td>\n",
       "    </tr>\n",
       "    <tr>\n",
       "      <th>max</th>\n",
       "      <td>108.450000</td>\n",
       "      <td>55.760000</td>\n",
       "      <td>22.310000</td>\n",
       "    </tr>\n",
       "  </tbody>\n",
       "</table>\n",
       "</div>"
      ],
      "text/plain": [
       "           Length      Width     Height\n",
       "count   25.000000  25.000000  25.000000\n",
       "mean    99.547200  49.301200  20.024800\n",
       "std      5.147417   2.955796   0.823514\n",
       "min     89.820000  44.460000  18.600000\n",
       "25%     95.510000  47.900000  19.510000\n",
       "50%     98.730000  49.240000  19.940000\n",
       "75%    104.260000  50.810000  20.360000\n",
       "max    108.450000  55.760000  22.310000"
      ]
     },
     "execution_count": 52,
     "metadata": {},
     "output_type": "execute_result"
    }
   ],
   "source": [
    "df1 = df[df['Operator'] == 'Op-1']\n",
    "df1.describe()"
   ]
  },
  {
   "cell_type": "code",
   "execution_count": 53,
   "metadata": {},
   "outputs": [
    {
     "data": {
      "text/html": [
       "<div>\n",
       "<style scoped>\n",
       "    .dataframe tbody tr th:only-of-type {\n",
       "        vertical-align: middle;\n",
       "    }\n",
       "\n",
       "    .dataframe tbody tr th {\n",
       "        vertical-align: top;\n",
       "    }\n",
       "\n",
       "    .dataframe thead th {\n",
       "        text-align: right;\n",
       "    }\n",
       "</style>\n",
       "<table border=\"1\" class=\"dataframe\">\n",
       "  <thead>\n",
       "    <tr style=\"text-align: right;\">\n",
       "      <th></th>\n",
       "      <th>Length</th>\n",
       "      <th>Width</th>\n",
       "      <th>Height</th>\n",
       "      <th>Operator</th>\n",
       "    </tr>\n",
       "    <tr>\n",
       "      <th>Item_No</th>\n",
       "      <th></th>\n",
       "      <th></th>\n",
       "      <th></th>\n",
       "      <th></th>\n",
       "    </tr>\n",
       "  </thead>\n",
       "  <tbody>\n",
       "    <tr>\n",
       "      <th>Item-6</th>\n",
       "      <td>105.18</td>\n",
       "      <td>49.39</td>\n",
       "      <td>20.36</td>\n",
       "      <td>Op-1</td>\n",
       "    </tr>\n",
       "    <tr>\n",
       "      <th>Item-13</th>\n",
       "      <td>105.72</td>\n",
       "      <td>50.04</td>\n",
       "      <td>20.06</td>\n",
       "      <td>Op-1</td>\n",
       "    </tr>\n",
       "    <tr>\n",
       "      <th>Item-17</th>\n",
       "      <td>107.69</td>\n",
       "      <td>48.18</td>\n",
       "      <td>19.33</td>\n",
       "      <td>Op-1</td>\n",
       "    </tr>\n",
       "    <tr>\n",
       "      <th>Item-18</th>\n",
       "      <td>106.83</td>\n",
       "      <td>50.81</td>\n",
       "      <td>19.12</td>\n",
       "      <td>Op-1</td>\n",
       "    </tr>\n",
       "    <tr>\n",
       "      <th>Item-23</th>\n",
       "      <td>108.45</td>\n",
       "      <td>44.46</td>\n",
       "      <td>22.31</td>\n",
       "      <td>Op-1</td>\n",
       "    </tr>\n",
       "  </tbody>\n",
       "</table>\n",
       "</div>"
      ],
      "text/plain": [
       "         Length  Width  Height Operator\n",
       "Item_No                                \n",
       "Item-6   105.18  49.39   20.36     Op-1\n",
       "Item-13  105.72  50.04   20.06     Op-1\n",
       "Item-17  107.69  48.18   19.33     Op-1\n",
       "Item-18  106.83  50.81   19.12     Op-1\n",
       "Item-23  108.45  44.46   22.31     Op-1"
      ]
     },
     "execution_count": 53,
     "metadata": {},
     "output_type": "execute_result"
    }
   ],
   "source": [
    "df[(df['Length']  > 105) & (df['Operator'] == 'Op-1')]"
   ]
  },
  {
   "cell_type": "code",
   "execution_count": null,
   "metadata": {},
   "outputs": [
    {
     "data": {
      "text/html": [
       "<div>\n",
       "<style scoped>\n",
       "    .dataframe tbody tr th:only-of-type {\n",
       "        vertical-align: middle;\n",
       "    }\n",
       "\n",
       "    .dataframe tbody tr th {\n",
       "        vertical-align: top;\n",
       "    }\n",
       "\n",
       "    .dataframe thead th {\n",
       "        text-align: right;\n",
       "    }\n",
       "</style>\n",
       "<table border=\"1\" class=\"dataframe\">\n",
       "  <thead>\n",
       "    <tr style=\"text-align: right;\">\n",
       "      <th></th>\n",
       "      <th>Length</th>\n",
       "      <th>Width</th>\n",
       "      <th>Height</th>\n",
       "      <th>Operator</th>\n",
       "    </tr>\n",
       "    <tr>\n",
       "      <th>Item_No</th>\n",
       "      <th></th>\n",
       "      <th></th>\n",
       "      <th></th>\n",
       "      <th></th>\n",
       "    </tr>\n",
       "  </thead>\n",
       "  <tbody>\n",
       "    <tr>\n",
       "      <th>Item-1</th>\n",
       "      <td>102.67</td>\n",
       "      <td>49.53</td>\n",
       "      <td>19.69</td>\n",
       "      <td>Op-1</td>\n",
       "    </tr>\n",
       "    <tr>\n",
       "      <th>Item-2</th>\n",
       "      <td>102.50</td>\n",
       "      <td>51.42</td>\n",
       "      <td>19.63</td>\n",
       "      <td>Op-1</td>\n",
       "    </tr>\n",
       "    <tr>\n",
       "      <th>Item-3</th>\n",
       "      <td>95.37</td>\n",
       "      <td>52.25</td>\n",
       "      <td>21.51</td>\n",
       "      <td>Op-1</td>\n",
       "    </tr>\n",
       "    <tr>\n",
       "      <th>Item-5</th>\n",
       "      <td>104.26</td>\n",
       "      <td>47.90</td>\n",
       "      <td>19.46</td>\n",
       "      <td>Op-1</td>\n",
       "    </tr>\n",
       "    <tr>\n",
       "      <th>Item-7</th>\n",
       "      <td>97.35</td>\n",
       "      <td>48.05</td>\n",
       "      <td>20.22</td>\n",
       "      <td>Op-1</td>\n",
       "    </tr>\n",
       "  </tbody>\n",
       "</table>\n",
       "</div>"
      ],
      "text/plain": [
       "         Length  Width  Height Operator\n",
       "Item_No                                \n",
       "Item-1   102.67  49.53   19.69     Op-1\n",
       "Item-2   102.50  51.42   19.63     Op-1\n",
       "Item-3    95.37  52.25   21.51     Op-1\n",
       "Item-5   104.26  47.90   19.46     Op-1\n",
       "Item-7    97.35  48.05   20.22     Op-1"
      ]
     },
     "execution_count": 57,
     "metadata": {},
     "output_type": "execute_result"
    }
   ],
   "source": [
    "df[(df['Length']  >= 95) & (df['Length'] <= 105)].head()"
   ]
  },
  {
   "cell_type": "code",
   "execution_count": 59,
   "metadata": {},
   "outputs": [
    {
     "data": {
      "text/html": [
       "<div>\n",
       "<style scoped>\n",
       "    .dataframe tbody tr th:only-of-type {\n",
       "        vertical-align: middle;\n",
       "    }\n",
       "\n",
       "    .dataframe tbody tr th {\n",
       "        vertical-align: top;\n",
       "    }\n",
       "\n",
       "    .dataframe thead th {\n",
       "        text-align: right;\n",
       "    }\n",
       "</style>\n",
       "<table border=\"1\" class=\"dataframe\">\n",
       "  <thead>\n",
       "    <tr style=\"text-align: right;\">\n",
       "      <th></th>\n",
       "      <th>Length</th>\n",
       "      <th>Width</th>\n",
       "      <th>Height</th>\n",
       "      <th>Operator</th>\n",
       "    </tr>\n",
       "    <tr>\n",
       "      <th>Item_No</th>\n",
       "      <th></th>\n",
       "      <th></th>\n",
       "      <th></th>\n",
       "      <th></th>\n",
       "    </tr>\n",
       "  </thead>\n",
       "  <tbody>\n",
       "    <tr>\n",
       "      <th>Item-8</th>\n",
       "      <td>99.35</td>\n",
       "      <td>44.59</td>\n",
       "      <td>21.03</td>\n",
       "      <td>Op-1</td>\n",
       "    </tr>\n",
       "    <tr>\n",
       "      <th>Item-23</th>\n",
       "      <td>108.45</td>\n",
       "      <td>44.46</td>\n",
       "      <td>22.31</td>\n",
       "      <td>Op-1</td>\n",
       "    </tr>\n",
       "    <tr>\n",
       "      <th>Item-41</th>\n",
       "      <td>110.54</td>\n",
       "      <td>51.07</td>\n",
       "      <td>21.95</td>\n",
       "      <td>Op-2</td>\n",
       "    </tr>\n",
       "  </tbody>\n",
       "</table>\n",
       "</div>"
      ],
      "text/plain": [
       "         Length  Width  Height Operator\n",
       "Item_No                                \n",
       "Item-8    99.35  44.59   21.03     Op-1\n",
       "Item-23  108.45  44.46   22.31     Op-1\n",
       "Item-41  110.54  51.07   21.95     Op-2"
      ]
     },
     "execution_count": 59,
     "metadata": {},
     "output_type": "execute_result"
    }
   ],
   "source": [
    "df[(df['Length']  >= 110) | (df['Width'] <= 45)]"
   ]
  }
 ],
 "metadata": {
  "kernelspec": {
   "display_name": ".venv",
   "language": "python",
   "name": "python3"
  },
  "language_info": {
   "codemirror_mode": {
    "name": "ipython",
    "version": 3
   },
   "file_extension": ".py",
   "mimetype": "text/x-python",
   "name": "python",
   "nbconvert_exporter": "python",
   "pygments_lexer": "ipython3",
   "version": "3.13.5"
  }
 },
 "nbformat": 4,
 "nbformat_minor": 2
}
