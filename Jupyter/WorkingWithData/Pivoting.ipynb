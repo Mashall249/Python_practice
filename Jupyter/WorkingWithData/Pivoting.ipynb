{
 "cells": [
  {
   "cell_type": "code",
   "execution_count": 1,
   "metadata": {},
   "outputs": [],
   "source": [
    "import numpy as np\n",
    "import pandas as pd\n",
    "from pandas import Series,DataFrame"
   ]
  },
  {
   "cell_type": "code",
   "execution_count": 3,
   "metadata": {},
   "outputs": [
    {
     "ename": "AttributeError",
     "evalue": "module 'pandas.testing' has no attribute 'makeTimeDataFrame'",
     "output_type": "error",
     "traceback": [
      "\u001b[31m---------------------------------------------------------------------------\u001b[39m",
      "\u001b[31mAttributeError\u001b[39m                            Traceback (most recent call last)",
      "\u001b[36mCell\u001b[39m\u001b[36m \u001b[39m\u001b[32mIn[3]\u001b[39m\u001b[32m, line 15\u001b[39m\n\u001b[32m     12\u001b[39m   \u001b[38;5;66;03m#return the DataFrame\u001b[39;00m\n\u001b[32m     13\u001b[39m   \u001b[38;5;28;01mreturn\u001b[39;00m DataFrame(data, columns=[\u001b[33m'\u001b[39m\u001b[33mdate\u001b[39m\u001b[33m'\u001b[39m,\u001b[33m'\u001b[39m\u001b[33mvariable\u001b[39m\u001b[33m'\u001b[39m,\u001b[33m'\u001b[39m\u001b[33mvalue\u001b[39m\u001b[33m'\u001b[39m])\n\u001b[32m---> \u001b[39m\u001b[32m15\u001b[39m dframe = unpivot(\u001b[43mtm\u001b[49m\u001b[43m.\u001b[49m\u001b[43mmakeTimeDataFrame\u001b[49m())\n",
      "\u001b[31mAttributeError\u001b[39m: module 'pandas.testing' has no attribute 'makeTimeDataFrame'"
     ]
    }
   ],
   "source": [
    "import pandas.testing as tm; tm.N = 3\n",
    "\n",
    "#Create a unpivoted function\n",
    "def unpivot(frame):\n",
    "  N,K = frame.shape\n",
    "\n",
    "  data = {'value': frame.values.ravel('F'),\n",
    "          'variable': np.asarray(frame.columns).repeat(N),\n",
    "          'date': np.tile(np.asarray(frame.index),K)\n",
    "          }\n",
    "  \n",
    "  #return the DataFrame\n",
    "  return DataFrame(data, columns=['date','variable','value'])\n",
    "\n",
    "dframe = unpivot(tm.makeTimeDataFrame())"
   ]
  },
  {
   "cell_type": "code",
   "execution_count": null,
   "metadata": {},
   "outputs": [],
   "source": [
    "dframe_piv = dframe.pivot('date','variable','value')\n",
    "dframe_piv"
   ]
  }
 ],
 "metadata": {
  "kernelspec": {
   "display_name": ".venv",
   "language": "python",
   "name": "python3"
  },
  "language_info": {
   "codemirror_mode": {
    "name": "ipython",
    "version": 3
   },
   "file_extension": ".py",
   "mimetype": "text/x-python",
   "name": "python",
   "nbconvert_exporter": "python",
   "pygments_lexer": "ipython3",
   "version": "3.13.5"
  }
 },
 "nbformat": 4,
 "nbformat_minor": 2
}
