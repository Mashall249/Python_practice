{
 "cells": [
  {
   "cell_type": "code",
   "execution_count": 1,
   "metadata": {},
   "outputs": [],
   "source": [
    "import numpy as np\n",
    "import pandas as pd\n",
    "from pandas import Series,DataFrame"
   ]
  },
  {
   "cell_type": "code",
   "execution_count": 2,
   "metadata": {},
   "outputs": [],
   "source": [
    "# 自作のダミーデータ：日付インデックス付きデータフレーム\n",
    "def make_time_dataframe(n_rows=3, n_cols=4):\n",
    "    dates = pd.date_range(\"2024-01-01\", periods=n_rows)\n",
    "    columns = list(\"ABCD\")[:n_cols]\n",
    "    data = np.random.randn(n_rows, n_cols)\n",
    "    return pd.DataFrame(data, index=dates, columns=columns)\n",
    "\n",
    "# unpivot関数（変更なし）\n",
    "def unpivot(frame):\n",
    "    N, K = frame.shape\n",
    "\n",
    "    data = {\n",
    "        'value': frame.values.ravel('F'),\n",
    "        'variable': np.asarray(frame.columns).repeat(N),\n",
    "        'date': np.tile(np.asarray(frame.index), K)\n",
    "    }\n",
    "\n",
    "    return pd.DataFrame(data, columns=['date', 'variable', 'value'])\n",
    "\n",
    "# 実行\n",
    "dframe = unpivot(make_time_dataframe())"
   ]
  },
  {
   "cell_type": "code",
   "execution_count": 4,
   "metadata": {},
   "outputs": [
    {
     "data": {
      "text/html": [
       "<div>\n",
       "<style scoped>\n",
       "    .dataframe tbody tr th:only-of-type {\n",
       "        vertical-align: middle;\n",
       "    }\n",
       "\n",
       "    .dataframe tbody tr th {\n",
       "        vertical-align: top;\n",
       "    }\n",
       "\n",
       "    .dataframe thead th {\n",
       "        text-align: right;\n",
       "    }\n",
       "</style>\n",
       "<table border=\"1\" class=\"dataframe\">\n",
       "  <thead>\n",
       "    <tr style=\"text-align: right;\">\n",
       "      <th>variable</th>\n",
       "      <th>A</th>\n",
       "      <th>B</th>\n",
       "      <th>C</th>\n",
       "      <th>D</th>\n",
       "    </tr>\n",
       "    <tr>\n",
       "      <th>date</th>\n",
       "      <th></th>\n",
       "      <th></th>\n",
       "      <th></th>\n",
       "      <th></th>\n",
       "    </tr>\n",
       "  </thead>\n",
       "  <tbody>\n",
       "    <tr>\n",
       "      <th>2024-01-01</th>\n",
       "      <td>1.254283</td>\n",
       "      <td>0.332483</td>\n",
       "      <td>-1.661091</td>\n",
       "      <td>-0.298485</td>\n",
       "    </tr>\n",
       "    <tr>\n",
       "      <th>2024-01-02</th>\n",
       "      <td>-0.428022</td>\n",
       "      <td>1.244417</td>\n",
       "      <td>0.860595</td>\n",
       "      <td>-1.874368</td>\n",
       "    </tr>\n",
       "    <tr>\n",
       "      <th>2024-01-03</th>\n",
       "      <td>0.675242</td>\n",
       "      <td>-0.023658</td>\n",
       "      <td>-0.429766</td>\n",
       "      <td>0.565652</td>\n",
       "    </tr>\n",
       "  </tbody>\n",
       "</table>\n",
       "</div>"
      ],
      "text/plain": [
       "variable           A         B         C         D\n",
       "date                                              \n",
       "2024-01-01  1.254283  0.332483 -1.661091 -0.298485\n",
       "2024-01-02 -0.428022  1.244417  0.860595 -1.874368\n",
       "2024-01-03  0.675242 -0.023658 -0.429766  0.565652"
      ]
     },
     "execution_count": 4,
     "metadata": {},
     "output_type": "execute_result"
    }
   ],
   "source": [
    "dframe_piv = dframe.pivot(index='date', columns='variable', values='value')\n",
    "dframe_piv"
   ]
  }
 ],
 "metadata": {
  "kernelspec": {
   "display_name": ".venv",
   "language": "python",
   "name": "python3"
  },
  "language_info": {
   "codemirror_mode": {
    "name": "ipython",
    "version": 3
   },
   "file_extension": ".py",
   "mimetype": "text/x-python",
   "name": "python",
   "nbconvert_exporter": "python",
   "pygments_lexer": "ipython3",
   "version": "3.13.5"
  }
 },
 "nbformat": 4,
 "nbformat_minor": 2
}
