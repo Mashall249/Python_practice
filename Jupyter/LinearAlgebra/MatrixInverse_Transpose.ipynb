{
 "cells": [
  {
   "cell_type": "code",
   "execution_count": 1,
   "metadata": {},
   "outputs": [],
   "source": [
    "import numpy as np"
   ]
  },
  {
   "cell_type": "code",
   "execution_count": 2,
   "metadata": {},
   "outputs": [
    {
     "name": "stdout",
     "output_type": "stream",
     "text": [
      "Result:\n",
      "[[ 2.         -0.33333333]\n",
      " [-1.          0.33333333]]\n"
     ]
    }
   ],
   "source": [
    "matrix_a = np.array([[1,1],[3,6]])\n",
    "inverse = np.linalg.inv(matrix_a)\n",
    "print(\"Result:\")\n",
    "print(inverse)"
   ]
  },
  {
   "cell_type": "code",
   "execution_count": 3,
   "metadata": {},
   "outputs": [
    {
     "name": "stdout",
     "output_type": "stream",
     "text": [
      "Result:\n",
      "[[1 3 1]\n",
      " [8 7 2]\n",
      " [2 5 9]]\n"
     ]
    }
   ],
   "source": [
    "matrix_b = np.array([[1,8,2],[3,7,5],[1,2,9]])\n",
    "transpose = np.transpose(matrix_b)\n",
    "print(\"Result:\")\n",
    "print(transpose)"
   ]
  }
 ],
 "metadata": {
  "kernelspec": {
   "display_name": ".venv",
   "language": "python",
   "name": "python3"
  },
  "language_info": {
   "codemirror_mode": {
    "name": "ipython",
    "version": 3
   },
   "file_extension": ".py",
   "mimetype": "text/x-python",
   "name": "python",
   "nbconvert_exporter": "python",
   "pygments_lexer": "ipython3",
   "version": "3.13.5"
  }
 },
 "nbformat": 4,
 "nbformat_minor": 2
}
