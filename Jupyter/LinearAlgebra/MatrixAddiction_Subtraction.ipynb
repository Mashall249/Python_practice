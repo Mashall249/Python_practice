{
 "cells": [
  {
   "cell_type": "code",
   "execution_count": 1,
   "metadata": {},
   "outputs": [],
   "source": [
    "import numpy as np"
   ]
  },
  {
   "cell_type": "code",
   "execution_count": 2,
   "metadata": {},
   "outputs": [],
   "source": [
    "matrix_A = np.array([[2,8],[3,10]])\n",
    "matrix_B = np.array([[8,9],[1,7]])"
   ]
  },
  {
   "cell_type": "code",
   "execution_count": 3,
   "metadata": {},
   "outputs": [
    {
     "name": "stdout",
     "output_type": "stream",
     "text": [
      "Result:\n",
      "[[10 17]\n",
      " [ 4 17]]\n"
     ]
    }
   ],
   "source": [
    "Addition = matrix_A + matrix_B\n",
    "print(\"Result:\")\n",
    "print(Addition)"
   ]
  },
  {
   "cell_type": "code",
   "execution_count": 4,
   "metadata": {},
   "outputs": [],
   "source": [
    "matrix_C = np.array([[9,2,19],[15,1,5],[8,0,17]])\n",
    "matrix_D = np.array([[2,4,5],[6,8,11],[1,3,7]])"
   ]
  },
  {
   "cell_type": "code",
   "execution_count": 5,
   "metadata": {},
   "outputs": [
    {
     "name": "stdout",
     "output_type": "stream",
     "text": [
      "Result:\n",
      "[[ 7 -2 14]\n",
      " [ 9 -7 -6]\n",
      " [ 7 -3 10]]\n"
     ]
    }
   ],
   "source": [
    "Subtraction = matrix_C - matrix_D\n",
    "print(\"Result:\")\n",
    "print(Subtraction)"
   ]
  }
 ],
 "metadata": {
  "kernelspec": {
   "display_name": ".venv",
   "language": "python",
   "name": "python3"
  },
  "language_info": {
   "codemirror_mode": {
    "name": "ipython",
    "version": 3
   },
   "file_extension": ".py",
   "mimetype": "text/x-python",
   "name": "python",
   "nbconvert_exporter": "python",
   "pygments_lexer": "ipython3",
   "version": "3.13.5"
  }
 },
 "nbformat": 4,
 "nbformat_minor": 2
}
