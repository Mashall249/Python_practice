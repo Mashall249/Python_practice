{
 "cells": [
  {
   "cell_type": "code",
   "execution_count": 1,
   "metadata": {},
   "outputs": [],
   "source": [
    "import numpy as np\n",
    "from scipy.linalg import lu"
   ]
  },
  {
   "cell_type": "code",
   "execution_count": 2,
   "metadata": {},
   "outputs": [],
   "source": [
    "matrix = np.array([[2,-1],[1,2]])\n",
    "P,L,U = lu(matrix)"
   ]
  },
  {
   "cell_type": "code",
   "execution_count": 3,
   "metadata": {},
   "outputs": [],
   "source": [
    "Q,R = np.linalg.qr(matrix)"
   ]
  },
  {
   "cell_type": "code",
   "execution_count": 4,
   "metadata": {},
   "outputs": [],
   "source": [
    "cholesky = np.linalg.cholesky(matrix)"
   ]
  },
  {
   "cell_type": "code",
   "execution_count": 5,
   "metadata": {},
   "outputs": [],
   "source": [
    "U_svd, S_svd, Vt_svd = np.linalg.svd(matrix)"
   ]
  },
  {
   "cell_type": "code",
   "execution_count": 6,
   "metadata": {},
   "outputs": [
    {
     "name": "stdout",
     "output_type": "stream",
     "text": [
      "\n",
      "LU Decomposition\n",
      "Permutation Matrix\n",
      "[[1. 0.]\n",
      " [0. 1.]]\n",
      "Lower Triangular Matrix\n",
      "[[1.  0. ]\n",
      " [0.5 1. ]]\n",
      "Upper Triangular Matrix\n",
      "[[ 2.  -1. ]\n",
      " [ 0.   2.5]]\n"
     ]
    }
   ],
   "source": [
    "print(\"\\nLU Decomposition\")\n",
    "print(\"Permutation Matrix\")\n",
    "print(P)\n",
    "print(\"Lower Triangular Matrix\")\n",
    "print(L)\n",
    "print(\"Upper Triangular Matrix\")\n",
    "print(U)"
   ]
  },
  {
   "cell_type": "code",
   "execution_count": 7,
   "metadata": {},
   "outputs": [
    {
     "name": "stdout",
     "output_type": "stream",
     "text": [
      "\n",
      "QR Decomposition\n",
      "Orthogonal matrix Q\n",
      "[[-0.89442719 -0.4472136 ]\n",
      " [-0.4472136   0.89442719]]\n",
      "Upper Triangular Matrix R\n",
      "[[-2.23606798e+00 -6.18106769e-17]\n",
      " [ 0.00000000e+00  2.23606798e+00]]\n"
     ]
    }
   ],
   "source": [
    "print(\"\\nQR Decomposition\")\n",
    "print(\"Orthogonal matrix Q\")\n",
    "print(Q)\n",
    "print(\"Upper Triangular Matrix R\")\n",
    "print(R)\n"
   ]
  },
  {
   "cell_type": "code",
   "execution_count": 8,
   "metadata": {},
   "outputs": [
    {
     "name": "stdout",
     "output_type": "stream",
     "text": [
      "\n",
      "Cholesky Decomposition\n",
      "[[1.41421356 0.        ]\n",
      " [0.70710678 1.22474487]]\n"
     ]
    }
   ],
   "source": [
    "print(\"\\nCholesky Decomposition\")\n",
    "print(cholesky)"
   ]
  },
  {
   "cell_type": "code",
   "execution_count": 9,
   "metadata": {},
   "outputs": [
    {
     "name": "stdout",
     "output_type": "stream",
     "text": [
      "\n",
      "Singular Value Decomposition\n",
      "Left Singular Vector\n",
      "[[-0.89442719 -0.4472136 ]\n",
      " [-0.4472136   0.89442719]]\n",
      "Singular Value, diagonal matrix\n",
      "[2.23606798 2.23606798]\n",
      "Right Singular Vector\n",
      "[[-1. -0.]\n",
      " [ 0.  1.]]\n"
     ]
    }
   ],
   "source": [
    "print(\"\\nSingular Value Decomposition\")\n",
    "print(\"Left Singular Vector\")\n",
    "print(U_svd)\n",
    "print(\"Singular Value, diagonal matrix\")\n",
    "print(S_svd)\n",
    "print(\"Right Singular Vector\")\n",
    "print(Vt_svd)"
   ]
  }
 ],
 "metadata": {
  "kernelspec": {
   "display_name": ".venv",
   "language": "python",
   "name": "python3"
  },
  "language_info": {
   "codemirror_mode": {
    "name": "ipython",
    "version": 3
   },
   "file_extension": ".py",
   "mimetype": "text/x-python",
   "name": "python",
   "nbconvert_exporter": "python",
   "pygments_lexer": "ipython3",
   "version": "3.13.5"
  }
 },
 "nbformat": 4,
 "nbformat_minor": 2
}
