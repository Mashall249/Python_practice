{
 "cells": [
  {
   "cell_type": "code",
   "execution_count": 1,
   "metadata": {},
   "outputs": [],
   "source": [
    "import numpy as np\n",
    "from scipy.sparse.linalg import svds"
   ]
  },
  {
   "cell_type": "code",
   "execution_count": 2,
   "metadata": {},
   "outputs": [],
   "source": [
    "class MovieRecommendationEngine:\n",
    "  def __init__(self, ratings_matrix, num_recommendations=5):\n",
    "    self.ratings_matrix = ratings_matrix\n",
    "    self.num_recomendations = num_recommendations\n",
    "\n",
    "  def train(self):\n",
    "    ratings_matrix_float = self.ratings_matrix.astype(float)\n",
    "    k = min(ratings_matrix_float.shape) - 1\n",
    "    if k <= 0:\n",
    "      raise ValueError(\"The imput matrix must have more than 1 dimension for SVD\")\n",
    "    U, S, Vt = svds(ratings_matrix_float, k=k)\n",
    "    self.reconstructed_ratings_matrix = np.dot(np.dot(U, np.diag(S)), Vt)\n",
    "  \n",
    "  def recommend_movies(self, user_id):\n",
    "    user_ratings = self.reconstructed_ratings_matrix[user_id]\n",
    "    recomennded_movie_indices = np.argsort(user_ratings)[::-1][:self.num_recomendations]\n",
    "    return recomennded_movie_indices"
   ]
  },
  {
   "cell_type": "code",
   "execution_count": 3,
   "metadata": {},
   "outputs": [
    {
     "name": "stdout",
     "output_type": "stream",
     "text": [
      "Recommended MOvies for User 0 :\n",
      "Movie ID: 1\n",
      "Movie ID: 0\n",
      "Movie ID: 3\n",
      "Movie ID: 2\n"
     ]
    }
   ],
   "source": [
    "ratings_matrix = np.array([[4,5,0,0],[0,0,5,4],[5,0,4,0],[0,4,0,5],[0,0,5,4]])\n",
    "engine = MovieRecommendationEngine(ratings_matrix)\n",
    "engine.train()\n",
    "user_id = 0\n",
    "recommended_movies = engine.recommend_movies(user_id)\n",
    "print(\"Recommended MOvies for User\", user_id, \":\")\n",
    "for movie_id in recommended_movies:\n",
    "  print(\"Movie ID:\", movie_id)"
   ]
  }
 ],
 "metadata": {
  "kernelspec": {
   "display_name": ".venv",
   "language": "python",
   "name": "python3"
  },
  "language_info": {
   "codemirror_mode": {
    "name": "ipython",
    "version": 3
   },
   "file_extension": ".py",
   "mimetype": "text/x-python",
   "name": "python",
   "nbconvert_exporter": "python",
   "pygments_lexer": "ipython3",
   "version": "3.13.5"
  }
 },
 "nbformat": 4,
 "nbformat_minor": 2
}
