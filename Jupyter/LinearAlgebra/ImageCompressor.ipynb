{
 "cells": [
  {
   "cell_type": "code",
   "execution_count": 2,
   "metadata": {},
   "outputs": [],
   "source": [
    "import numpy as np\n",
    "from PIL import Image"
   ]
  },
  {
   "cell_type": "code",
   "execution_count": null,
   "metadata": {},
   "outputs": [],
   "source": [
    "uploaded = files.upload()"
   ]
  },
  {
   "cell_type": "code",
   "execution_count": null,
   "metadata": {},
   "outputs": [],
   "source": [
    "file_name = list(uploaded.keys())[0]\n",
    "image = Image.open(file_name)\n",
    "image_array = np.array(image)\n",
    "flatttened_image = image_array.reshape(-1,3)"
   ]
  },
  {
   "cell_type": "code",
   "execution_count": null,
   "metadata": {},
   "outputs": [],
   "source": [
    "U, S, Vt = np.linalg.svd(flatttened_image, full_matrices=False)\n",
    "k= 100\n",
    "S_truncated = np.diag(S[:k])\n",
    "U_truncated = U[:,:k]\n",
    "Vt_turncated = Vt[:k,:]"
   ]
  },
  {
   "cell_type": "code",
   "execution_count": null,
   "metadata": {},
   "outputs": [],
   "source": [
    "compressed_image_array = np.dot(U_truncated, np.dot(S_truncated))\n",
    "compressed_image = Image.fromarray(compressed_image_array.astype(np.uint8).reshape(image_array.shape))"
   ]
  },
  {
   "cell_type": "code",
   "execution_count": null,
   "metadata": {},
   "outputs": [],
   "source": [
    "compressed_image_array = np.dot(U_truncated, np.dot(S_truncated))\n",
    "display(compressed_image)"
   ]
  },
  {
   "cell_type": "code",
   "execution_count": null,
   "metadata": {},
   "outputs": [],
   "source": [
    "import os\n",
    "original_size = os.path.getsize(file_name)\n",
    "print(original_size, \"bytes\")\n",
    "compressed_image_file = \"commpressed_image.jpg\"\n",
    "compressed_image.save(compressed_image_file)\n",
    "compressed_size = os.path.getsize(compressed_image_file)\n",
    "print(compressed_size, \"bytes\")"
   ]
  }
 ],
 "metadata": {
  "kernelspec": {
   "display_name": ".venv",
   "language": "python",
   "name": "python3"
  },
  "language_info": {
   "codemirror_mode": {
    "name": "ipython",
    "version": 3
   },
   "file_extension": ".py",
   "mimetype": "text/x-python",
   "name": "python",
   "nbconvert_exporter": "python",
   "pygments_lexer": "ipython3",
   "version": "3.13.5"
  }
 },
 "nbformat": 4,
 "nbformat_minor": 2
}
