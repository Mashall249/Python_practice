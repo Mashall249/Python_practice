{
 "cells": [
  {
   "cell_type": "code",
   "execution_count": 1,
   "metadata": {},
   "outputs": [],
   "source": [
    "from sklearn.feature_extraction.text import TfidfVectorizer\n",
    "from sklearn.decomposition import NMF"
   ]
  },
  {
   "cell_type": "code",
   "execution_count": 2,
   "metadata": {},
   "outputs": [],
   "source": [
    "document = [\n",
    "  \"Science and technology drive innovation in healthcare and industry.\",\n",
    "    \"New advancements in AI are transforming various sectors of business.\",\n",
    "    \"Financial markets are influenced by geopolitical events and economic indicators.\",\n",
    "    \"The latest blockbuster movie has broken box office records worldwide.\",\n",
    "    \"Sports events bring communities together and promote healthy lifestyles.\",\n",
    "    \"Breakthroughs in renewable energy technologies are crucial for sustainability.\"\n",
    "]"
   ]
  },
  {
   "cell_type": "code",
   "execution_count": 3,
   "metadata": {},
   "outputs": [
    {
     "name": "stdout",
     "output_type": "stream",
     "text": [
      "Topic 1:\n",
      "['events', 'bring', 'lifestyles', 'communities', 'sports']\n",
      "Topic 2:\n",
      "['worldwide', 'records', 'blockbuster', 'box', 'movie']\n",
      "Topic 3:\n",
      "['advancements', 'new', 'transforming', 'ai', 'business']\n",
      "Document 1 belongs to cluster 3\n",
      "Document 2 belongs to cluster 3\n",
      "Document 3 belongs to cluster 1\n",
      "Document 4 belongs to cluster 2\n",
      "Document 5 belongs to cluster 1\n",
      "Document 6 belongs to cluster 2\n"
     ]
    }
   ],
   "source": [
    "tfidf_vectorizer = TfidfVectorizer(max_df=0.95, min_df=1, stop_words='english')\n",
    "tfidf_matrix = tfidf_vectorizer.fit_transform(document)\n",
    "num_topics = 3\n",
    "nmf_model = NMF(n_components = num_topics, random_state=42)\n",
    "nmf_model.fit(tfidf_matrix)\n",
    "feature_names = tfidf_vectorizer.get_feature_names_out()\n",
    "for topic_idx, topic in enumerate(nmf_model.components_):\n",
    "  print(f\"Topic {topic_idx + 1}:\")\n",
    "  top_words_idx = topic.argsort()[:-6:-1]\n",
    "  top_words = [feature_names[i] for i in top_words_idx]\n",
    "  print(top_words)\n",
    "topic_distribution = nmf_model.transform(tfidf_matrix)\n",
    "clusters = topic_distribution.argmax(axis=1)\n",
    "for i, cluster in enumerate(clusters):\n",
    "  print(f\"Document {i + 1} belongs to cluster {cluster + 1}\")"
   ]
  }
 ],
 "metadata": {
  "kernelspec": {
   "display_name": ".venv",
   "language": "python",
   "name": "python3"
  },
  "language_info": {
   "codemirror_mode": {
    "name": "ipython",
    "version": 3
   },
   "file_extension": ".py",
   "mimetype": "text/x-python",
   "name": "python",
   "nbconvert_exporter": "python",
   "pygments_lexer": "ipython3",
   "version": "3.13.5"
  }
 },
 "nbformat": 4,
 "nbformat_minor": 2
}
