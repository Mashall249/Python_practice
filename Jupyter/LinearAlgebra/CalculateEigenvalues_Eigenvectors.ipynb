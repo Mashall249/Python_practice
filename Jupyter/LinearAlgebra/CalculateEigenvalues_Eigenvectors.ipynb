{
 "cells": [
  {
   "cell_type": "code",
   "execution_count": 2,
   "metadata": {},
   "outputs": [],
   "source": [
    "import numpy as np\n",
    "import sympy as sp"
   ]
  },
  {
   "cell_type": "code",
   "execution_count": 3,
   "metadata": {},
   "outputs": [],
   "source": [
    "A = np.array([[5,6],[2,1]])"
   ]
  },
  {
   "cell_type": "code",
   "execution_count": 4,
   "metadata": {},
   "outputs": [
    {
     "name": "stdout",
     "output_type": "stream",
     "text": [
      "Eigenvalues [ 7. -1.]\n",
      "Eigenvectors\n",
      "Eigenvalue 1: 7.0\n",
      "Eigenvector 1: [0.9486833  0.31622777]\n",
      "Eigenvalue 2: -0.9999999999999999\n",
      "Eigenvector 2: [-0.70710678  0.70710678]\n"
     ]
    }
   ],
   "source": [
    "eigenvalues, eigenvectors = np.linalg.eig(A)\n",
    "print(\"Eigenvalues\", eigenvalues)\n",
    "print(\"Eigenvectors\")\n",
    "for i in range(len(eigenvalues)):\n",
    "  print(\"Eigenvalue {}: {}\".format(i+1, eigenvalues[i]))\n",
    "  print(\"Eigenvector {}: {}\".format(i+1, eigenvectors[:,i]))"
   ]
  },
  {
   "cell_type": "code",
   "execution_count": 5,
   "metadata": {},
   "outputs": [
    {
     "name": "stdout",
     "output_type": "stream",
     "text": [
      "[(-1, 1, [Matrix([\n",
      "[-1],\n",
      "[ 1]])]), (7, 1, [Matrix([\n",
      "[3],\n",
      "[1]])])]\n"
     ]
    }
   ],
   "source": [
    "mat_a = sp.Matrix([[5,6],[2,1]])\n",
    "eigenvector = mat_a.eigenvects()\n",
    "print(eigenvector)"
   ]
  }
 ],
 "metadata": {
  "kernelspec": {
   "display_name": ".venv",
   "language": "python",
   "name": "python3"
  },
  "language_info": {
   "codemirror_mode": {
    "name": "ipython",
    "version": 3
   },
   "file_extension": ".py",
   "mimetype": "text/x-python",
   "name": "python",
   "nbconvert_exporter": "python",
   "pygments_lexer": "ipython3",
   "version": "3.13.5"
  }
 },
 "nbformat": 4,
 "nbformat_minor": 2
}
