{
 "cells": [
  {
   "cell_type": "code",
   "execution_count": 1,
   "metadata": {},
   "outputs": [],
   "source": [
    "import numpy as np"
   ]
  },
  {
   "cell_type": "code",
   "execution_count": 2,
   "metadata": {},
   "outputs": [
    {
     "name": "stdout",
     "output_type": "stream",
     "text": [
      "Result:\n",
      "[[11 28]\n",
      " [ 5  7]]\n"
     ]
    }
   ],
   "source": [
    "matrix_1 = np.array([[3,5],[2,1]])\n",
    "matrix_2 = np.array([[2,1],[1,5]])\n",
    "result_A = np.dot(matrix_1,matrix_2)\n",
    "print(\"Result:\")\n",
    "print(result_A)"
   ]
  },
  {
   "cell_type": "code",
   "execution_count": 3,
   "metadata": {},
   "outputs": [
    {
     "name": "stdout",
     "output_type": "stream",
     "text": [
      "Result:\n",
      "[[ 5 15]\n",
      " [ 7  0]]\n"
     ]
    }
   ],
   "source": [
    "matrix_3 = np.array([[2,0,3],[5,1,0]])\n",
    "matrix_4 = np.array([[1,0],[2,0],[1,5]])\n",
    "result_B = np.dot(matrix_3,matrix_4)\n",
    "print(\"Result:\")\n",
    "print(result_B)"
   ]
  },
  {
   "cell_type": "code",
   "execution_count": 4,
   "metadata": {},
   "outputs": [
    {
     "name": "stdout",
     "output_type": "stream",
     "text": [
      "Result:\n",
      "[[13 16  9]\n",
      " [25 22 19]\n",
      " [28 50 22]]\n"
     ]
    }
   ],
   "source": [
    "matrix_5 = np.array([[1,3,1],[2,2,3],[5,7,2]])\n",
    "matrix_6 = np.array([[0,5,1],[2,3,1],[7,2,5]])\n",
    "result_C = np.dot(matrix_5,matrix_6)\n",
    "print(\"Result:\")\n",
    "print(result_C)"
   ]
  }
 ],
 "metadata": {
  "kernelspec": {
   "display_name": ".venv",
   "language": "python",
   "name": "python3"
  },
  "language_info": {
   "codemirror_mode": {
    "name": "ipython",
    "version": 3
   },
   "file_extension": ".py",
   "mimetype": "text/x-python",
   "name": "python",
   "nbconvert_exporter": "python",
   "pygments_lexer": "ipython3",
   "version": "3.13.5"
  }
 },
 "nbformat": 4,
 "nbformat_minor": 2
}
